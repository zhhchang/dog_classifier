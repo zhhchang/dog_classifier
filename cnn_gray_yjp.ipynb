{
 "cells": [
  {
   "cell_type": "code",
   "execution_count": 1,
   "metadata": {
    "id": "dPJkGXS-rpNG"
   },
   "outputs": [],
   "source": [
    "# # zip the file\n",
    "# import zipfile\n",
    "# zip_ref = zipfile.ZipFile(\"/content/gdrive/MyDrive/Processed Data/dataset_v1.1.zip\", 'r')\n",
    "# zip_ref.extractall(\"/content/gdrive/MyDrive/Processed Data/dataset\")\n",
    "# zip_ref.close()"
   ]
  },
  {
   "cell_type": "code",
   "execution_count": 16,
   "metadata": {
    "id": "7detQ6OUwSCx"
   },
   "outputs": [],
   "source": [
    "import sys, os\n",
    "\n",
    "# if 'google.colab' in sys.modules:\n",
    "#     # mount google drive\n",
    "#     from google.colab import drive\n",
    "#     drive.mount('/content/gdrive')\n",
    "#     # file_name = 'dataset_v1.1.zip'\n",
    "#     path_to_file = '/content/gdrive/MyDrive/CS5242 Project/dataset'\n",
    "#     print(path_to_file)\n",
    "\n",
    "# local\n",
    "path_to_file = '../dog_dataset'"
   ]
  },
  {
   "cell_type": "code",
   "execution_count": 17,
   "metadata": {
    "id": "nTCsGkyW-xG0"
   },
   "outputs": [],
   "source": [
    "# py_file_location = \"/content/gdrive/MyDrive/Processed Data/dataset/dataset_v1.1\"\n",
    "# sys.path.append(os.path.abspath(py_file_location))"
   ]
  },
  {
   "cell_type": "code",
   "execution_count": 18,
   "metadata": {
    "id": "Fe0pvmUVtfFd"
   },
   "outputs": [],
   "source": [
    "import torch\n",
    "import torch.nn as nn\n",
    "import torch.nn.functional as F\n",
    "import torch.optim as optim\n",
    "from random import randint\n",
    "import time\n",
    "import utils\n",
    "import os\n",
    "import pandas as pd\n",
    "import sys\n"
   ]
  },
  {
   "cell_type": "code",
   "execution_count": 19,
   "metadata": {
    "id": "PwTkTV0Twjc-"
   },
   "outputs": [],
   "source": [
    "train_data=torch.load(path_to_file+'/train_data_gray.pt')\n",
    "train_label=torch.load(path_to_file+'/train_label_gray.pt')\n",
    "test_data=torch.load(path_to_file+'/test_data_gray.pt')\n",
    "test_label=torch.load(path_to_file+'/test_label_gray.pt')"
   ]
  },
  {
   "cell_type": "code",
   "execution_count": 20,
   "metadata": {
    "id": "7tm7KSEtQih-"
   },
   "outputs": [
    {
     "name": "stdout",
     "output_type": "stream",
     "text": [
      "torch.Size([979, 64, 64])\n",
      "torch.Size([100, 64, 64])\n"
     ]
    }
   ],
   "source": [
    "print(train_data.size())\n",
    "print(test_data.size())"
   ]
  },
  {
   "cell_type": "code",
   "execution_count": 21,
   "metadata": {
    "id": "XtzLUsQdu3ic"
   },
   "outputs": [
    {
     "data": {
      "image/png": "[encoded data removed]",
      "text/plain": [
       "<Figure size 432x288 with 1 Axes>"
      ]
     },
     "metadata": {
      "needs_background": "light"
     },
     "output_type": "display_data"
    },
    {
     "data": {
      "text/plain": [
       "tensor(6)"
      ]
     },
     "execution_count": 21,
     "metadata": {},
     "output_type": "execute_result"
    }
   ],
   "source": [
    "utils.show(train_data[5])\n",
    "train_label[5]"
   ]
  },
  {
   "cell_type": "code",
   "execution_count": 22,
   "metadata": {
    "id": "VvIZIjNyLwrL"
   },
   "outputs": [
    {
     "name": "stdout",
     "output_type": "stream",
     "text": [
      "tensor(0.4385)\n",
      "tensor(0.2420)\n"
     ]
    }
   ],
   "source": [
    "mean= train_data.mean()\n",
    "print(mean)\n",
    "std= train_data.std()\n",
    "print(std)"
   ]
  },
  {
   "cell_type": "code",
   "execution_count": 23,
   "metadata": {
    "id": "U2VNKBsZFj8v"
   },
   "outputs": [],
   "source": [
    "# class VGG_convnet(nn.Module):\n",
    "\n",
    "#     def __init__(self):\n",
    "\n",
    "#         super(VGG_convnet, self).__init__()\n",
    "\n",
    "#         # block 1:         1 x 64 x 64 --> 64 x 32 x 32        \n",
    "#         self.conv1a = nn.Conv2d(1,   64,  kernel_size=3, padding=1 )\n",
    "#         # self.conv1b = nn.Conv2d(64,  64,  kernel_size=3, padding=1 )\n",
    "#         self.pool1  = nn.MaxPool2d(2,2)\n",
    "\n",
    "#         # block 2:         64 x 32 x 32 --> 128 x 16 x 16\n",
    "#         self.conv2a = nn.Conv2d(64,  128, kernel_size=3, padding=1 )\n",
    "#         # self.conv2b = nn.Conv2d(128, 128, kernel_size=3, padding=1 )\n",
    "#         self.pool2  = nn.MaxPool2d(2,2)\n",
    "\n",
    "#         # block 3:         128 x 16 x 16 --> 256 x 8 x 8        \n",
    "#         self.conv3a = nn.Conv2d(128, 256, kernel_size=3, padding=1 )\n",
    "#         # self.conv3b = nn.Conv2d(256, 256, kernel_size=3, padding=1 )\n",
    "#         self.pool3  = nn.MaxPool2d(2,2)\n",
    "        \n",
    "#         #block 4:          256 x 8 x 8 --> 512 x 4 x 4\n",
    "#         self.conv4a = nn.Conv2d(256, 512, kernel_size=3, padding=1 )\n",
    "#         self.pool4  = nn.MaxPool2d(2,2)\n",
    "\n",
    "#         #block 5:          512 x 4 x 4 --> 512 x 2 x 2\n",
    "#         self.conv5a = nn.Conv2d(512, 512, kernel_size=3, padding=1 )\n",
    "#         self.pool5  = nn.MaxPool2d(2,2)\n",
    "\n",
    "#         # linear layers:   512 x 2 x 2 --> 32768 --> 4096 --> 4096 --> 10\n",
    "#         self.linear1 = nn.Linear(2048, 4096)\n",
    "#         self.linear2 = nn.Linear(4096,4096)\n",
    "#         self.linear3 = nn.Linear(4096, 10)\n",
    "\n",
    "\n",
    "#     def forward(self, x):\n",
    "\n",
    "#         # block 1:         3 x 32 x 32 --> 64 x 16 x 16\n",
    "#         x = self.conv1a(x)\n",
    "#         x = torch.relu(x)\n",
    "#         # x = self.conv1b(x)\n",
    "#         # x = torch.relu(x)\n",
    "#         x = self.pool1(x)\n",
    "\n",
    "#         # block 2:         64 x 16 x 16 --> 128 x 8 x 8\n",
    "#         x = self.conv2a(x)\n",
    "#         x = torch.relu(x)\n",
    "#         # x = self.conv2b(x)\n",
    "#         # x = torch.relu(x)\n",
    "#         x = self.pool2(x)\n",
    "\n",
    "#         # block 3:         128 x 8 x 8 --> 256 x 4 x 4\n",
    "#         x = self.conv3a(x)\n",
    "#         x = torch.relu(x)\n",
    "#         # x = self.conv3b(x)\n",
    "#         # x = torch.relu(x)\n",
    "#         x = self.pool3(x)\n",
    "\n",
    "#         #block 4:          256 x 4 x 4 --> 512 x 2 x 2\n",
    "#         x = self.conv4a(x)\n",
    "#         x = torch.relu(x)\n",
    "#         x = self.pool4(x)\n",
    "\n",
    "#         #block 5:          256 x 4 x 4 --> 256 x 2 x 2\n",
    "#         x = self.conv5a(x)\n",
    "#         x = torch.relu(x)\n",
    "#         x = self.pool5(x)\n",
    "\n",
    "#         # linear layers:   512 x 2 x 2 --> 2048 --> 4096 --> 4096 --> 10\n",
    "#         x = x.view(-1, 2048)\n",
    "#         x = self.linear1(x)\n",
    "#         x = torch.relu(x)\n",
    "#         x = self.linear2(x)\n",
    "#         x = torch.relu(x)\n",
    "#         x = self.linear3(x) \n",
    "        \n",
    "#         return x"
   ]
  },
  {
   "cell_type": "code",
   "execution_count": 24,
   "metadata": {
    "id": "9W_Z9ptHHZBH"
   },
   "outputs": [],
   "source": [
    "# net = VGG_convnet()\n",
    "# print(net)\n",
    "# utils.display_num_param(net)"
   ]
  },
  {
   "cell_type": "code",
   "execution_count": 25,
   "metadata": {},
   "outputs": [],
   "source": [
    "class LeNet5_convnet(nn.Module):\n",
    "\n",
    "    def __init__(self):\n",
    "\n",
    "        super(LeNet5_convnet, self).__init__()\n",
    "\n",
    "        # CL1:   28 x 28  -->    50 x 28 x 28 \n",
    "        self.conv1 = nn.Conv2d(1,   50,  kernel_size=3,  padding=1 )\n",
    "        \n",
    "        # MP1: 50 x 28 x 28 -->    50 x 14 x 14\n",
    "        self.pool1  = nn.MaxPool2d(2,2)\n",
    "        \n",
    "        # CL2:   50 x 14 x 14  -->    100 x 14 x 14 \n",
    "        self.conv2 = nn.Conv2d(50,  100,  kernel_size=3,  padding=1 )\n",
    "        \n",
    "        # MP2: 100 x 14 x 14 -->    100 x 7 x 7\n",
    "        self.pool2 = nn.MaxPool2d(2,2)\n",
    "        \n",
    "        # LL1:   100 x 7 x 7 = 4900 -->  100 \n",
    "        self.linear1 = nn.Linear(25600, 100)\n",
    "        \n",
    "        # LL2:   100  -->  10 \n",
    "        self.linear2 = nn.Linear(100,10)\n",
    "\n",
    "\n",
    "    def forward(self, x):\n",
    "\n",
    "        # CL1:   28 x 28  -->    50 x 28 x 28 \n",
    "        x = self.conv1(x)\n",
    "        x = F.relu(x)\n",
    "        \n",
    "        # MP1: 50 x 28 x 28 -->    50 x 14 x 14\n",
    "        x = self.pool1(x)\n",
    "        \n",
    "        # CL2:   50 x 14 x 14  -->    100 x 14 x 14\n",
    "        x = self.conv2(x)\n",
    "        x = F.relu(x)\n",
    "        \n",
    "        # MP2: 100 x 14 x 14 -->    100 x 7 x 7\n",
    "        x = self.pool2(x)\n",
    "\n",
    "        # LL1:   100 x 7 x 7 = 4900  -->  100 \n",
    "        x = x.view(-1, 25600)\n",
    "        x = self.linear1(x)\n",
    "        x = F.relu(x)\n",
    "        \n",
    "        # LL2:   4900  -->  10 \n",
    "        x = self.linear2(x)\n",
    "    \n",
    "        return x"
   ]
  },
  {
   "cell_type": "code",
   "execution_count": 26,
   "metadata": {},
   "outputs": [
    {
     "name": "stdout",
     "output_type": "stream",
     "text": [
      "LeNet5_convnet(\n",
      "  (conv1): Conv2d(1, 50, kernel_size=(3, 3), stride=(1, 1), padding=(1, 1))\n",
      "  (pool1): MaxPool2d(kernel_size=2, stride=2, padding=0, dilation=1, ceil_mode=False)\n",
      "  (conv2): Conv2d(50, 100, kernel_size=(3, 3), stride=(1, 1), padding=(1, 1))\n",
      "  (pool2): MaxPool2d(kernel_size=2, stride=2, padding=0, dilation=1, ceil_mode=False)\n",
      "  (linear1): Linear(in_features=25600, out_features=100, bias=True)\n",
      "  (linear2): Linear(in_features=100, out_features=10, bias=True)\n",
      ")\n",
      "There are 2606710 (2.61 million) parameters in this neural network\n"
     ]
    }
   ],
   "source": [
    "net = LeNet5_convnet()\n",
    "print(net)\n",
    "utils.display_num_param(net)"
   ]
  },
  {
   "cell_type": "code",
   "execution_count": 27,
   "metadata": {
    "id": "oVNtbu-uK5Jo"
   },
   "outputs": [
    {
     "name": "stdout",
     "output_type": "stream",
     "text": [
      "cpu\n"
     ]
    }
   ],
   "source": [
    "# device= torch.device(\"cuda\")\n",
    "device= torch.device(\"cpu\")\n",
    "print(device)"
   ]
  },
  {
   "cell_type": "code",
   "execution_count": 28,
   "metadata": {
    "id": "fhNLTwjhNbKg"
   },
   "outputs": [],
   "source": [
    "net = net.to(device)\n",
    "\n",
    "mean = mean.to(device)\n",
    "\n",
    "std = std.to(device)"
   ]
  },
  {
   "cell_type": "code",
   "execution_count": 29,
   "metadata": {
    "id": "eqxAgRoDKuhZ"
   },
   "outputs": [],
   "source": [
    "criterion = nn.CrossEntropyLoss()\n",
    "my_lr= 0.01\n",
    "bs= 10"
   ]
  },
  {
   "cell_type": "code",
   "execution_count": 30,
   "metadata": {
    "id": "_oyhmQxFJLem"
   },
   "outputs": [],
   "source": [
    "def eval_on_test_set():\n",
    "\n",
    "    running_error=0\n",
    "    num_batches=0\n",
    "\n",
    "    for i in range(0,100,bs):\n",
    "\n",
    "        minibatch_data =  test_data[i:i+bs].unsqueeze(dim=1)\n",
    "        minibatch_label= test_label[i:i+bs]\n",
    "\n",
    "        minibatch_data=minibatch_data.to(device)\n",
    "        minibatch_label=minibatch_label.to(device)\n",
    "        \n",
    "        inputs = (minibatch_data - mean)/std\n",
    "        # inputs = minibatch_data\n",
    "\n",
    "        scores=net( inputs ) \n",
    "\n",
    "        error = utils.get_error( scores , minibatch_label)\n",
    "\n",
    "        running_error += error.item()\n",
    "\n",
    "        num_batches+=1\n",
    "\n",
    "    total_error = running_error/num_batches\n",
    "    print( 'error rate on test set =', total_error*100 ,'percent')"
   ]
  },
  {
   "cell_type": "code",
   "execution_count": null,
   "metadata": {
    "id": "53jLeT1Do83O"
   },
   "outputs": [],
   "source": []
  },
  {
   "cell_type": "code",
   "execution_count": 31,
   "metadata": {
    "id": "E-xduVi8KmF8"
   },
   "outputs": [
    {
     "name": "stderr",
     "output_type": "stream",
     "text": [
      "/Users/abby/miniconda3/envs/deeplearn_course/lib/python3.7/site-packages/torch/nn/functional.py:718: UserWarning: Named tensors and all their associated APIs are an experimental feature and subject to change. Please do not use them for anything important until they are released as stable. (Triggered internally at  /Users/distiller/project/conda/conda-bld/pytorch_1623459064158/work/c10/core/TensorImpl.h:1156.)\n",
      "  return torch.max_pool2d(input, kernel_size, stride, padding, dilation, ceil_mode)\n"
     ]
    },
    {
     "name": "stdout",
     "output_type": "stream",
     "text": [
      "epoch= 9 \t time= 1.4794504324595132 min \t lr= 0.005 \t loss= 1.3113530071414248 \t error= 45.53287990239202 percent\n",
      "error rate on test set = 57.999999523162835 percent\n",
      " \n",
      "epoch= 19 \t time= 3.115828847885132 min \t lr= 0.005 \t loss= 0.36604652637425733 \t error= 11.360544756967194 percent\n",
      "error rate on test set = 66.00000023841858 percent\n",
      " \n",
      "epoch= 29 \t time= 4.742612965901693 min \t lr= 0.005 \t loss= 0.013556284126730598 \t error= 0.0 percent\n",
      "error rate on test set = 62.00000047683716 percent\n",
      " \n",
      "epoch= 39 \t time= 6.365899296601613 min \t lr= 0.005 \t loss= 0.005073030598043483 \t error= 0.0 percent\n",
      "error rate on test set = 63.00000011920929 percent\n",
      " \n",
      "epoch= 49 \t time= 7.990099779764811 min \t lr= 0.005 \t loss= 0.0029903929846893463 \t error= 0.0 percent\n",
      "error rate on test set = 62.00000047683716 percent\n",
      " \n",
      "epoch= 59 \t time= 9.61678433418274 min \t lr= 0.005 \t loss= 0.0020714103991441354 \t error= 0.0 percent\n",
      "error rate on test set = 61.000000238418586 percent\n",
      " \n",
      "epoch= 69 \t time= 11.244741912682851 min \t lr= 0.005 \t loss= 0.001571289625087734 \t error= 0.0 percent\n",
      "error rate on test set = 62.00000047683716 percent\n",
      " \n",
      "epoch= 79 \t time= 12.969984149932861 min \t lr= 0.005 \t loss= 0.001250257858726177 \t error= 0.0 percent\n",
      "error rate on test set = 62.00000047683716 percent\n",
      " \n",
      "epoch= 89 \t time= 14.76631361246109 min \t lr= 0.005 \t loss= 0.0010323784523762344 \t error= 0.0 percent\n",
      "error rate on test set = 61.00000083446503 percent\n",
      " \n",
      "epoch= 99 \t time= 16.500747680664062 min \t lr= 0.005 \t loss= 0.0008767744453804454 \t error= 0.0 percent\n",
      "error rate on test set = 61.00000083446503 percent\n",
      " \n"
     ]
    }
   ],
   "source": [
    "start=time.time()\n",
    "\n",
    "for epoch in range(1,100):\n",
    "    \n",
    "    # divide the learning rate by 2 at epoch 10, 14 and 18\n",
    "    if epoch == 5: \n",
    "      my_lr = my_lr/2\n",
    "    \n",
    "    # create a new optimizer at the beginning of each epoch: give the current learning rate.   \n",
    "    optimizer=torch.optim.SGD( net.parameters() , lr=my_lr )\n",
    "        \n",
    "    # set the running quatities to zero at the beginning of the epoch\n",
    "    running_loss=0\n",
    "    running_error=0\n",
    "    num_batches=0\n",
    "    \n",
    "    # set the order in which to visit the image from the training set\n",
    "    shuffled_indices=torch.randperm(979)\n",
    " \n",
    "    for count in range(0,979,bs):\n",
    "    \n",
    "        # Set the gradients to zeros\n",
    "        optimizer.zero_grad()\n",
    "        \n",
    "        # create a minibatch       \n",
    "        indices=shuffled_indices[count:count+bs]\n",
    "        minibatch_data =  train_data[indices].unsqueeze(dim=1)\n",
    "        minibatch_label=  train_label[indices]\n",
    "        \n",
    "        # send them to the gpu\n",
    "        minibatch_data=minibatch_data.to(device)\n",
    "        minibatch_label=minibatch_label.to(device)\n",
    "        \n",
    "        # normalize the minibatch (this is the only difference compared to before!)\n",
    "        inputs = (minibatch_data - mean)/std\n",
    "        # inputs = minibatch_data\n",
    "        \n",
    "        # tell Pytorch to start tracking all operations that will be done on \"inputs\"\n",
    "        inputs.requires_grad_()\n",
    "\n",
    "        # forward the minibatch through the net \n",
    "        # scores=net( inputs ) \n",
    "        scores=net( inputs )\n",
    "\n",
    "        # Compute the average of the losses of the data points in the minibatch\n",
    "        loss =  criterion( scores , minibatch_label) \n",
    "        \n",
    "        # backward pass to compute dL/dU, dL/dV and dL/dW   \n",
    "        loss.backward()\n",
    "\n",
    "        # do one step of stochastic gradient descent: U=U-lr(dL/dU), V=V-lr(dL/dU), ...\n",
    "        optimizer.step()\n",
    "        \n",
    "\n",
    "        # START COMPUTING STATS\n",
    "        \n",
    "        # add the loss of this batch to the running loss\n",
    "        running_loss += loss.detach().item()\n",
    "        \n",
    "        # compute the error made on this batch and add it to the running error       \n",
    "        error = utils.get_error( scores.detach() , minibatch_label)\n",
    "        running_error += error.item()\n",
    "        \n",
    "        num_batches+=1        \n",
    "    \n",
    "    \n",
    "    # compute stats for the full training set\n",
    "    total_loss = running_loss/num_batches\n",
    "    total_error = running_error/num_batches\n",
    "    elapsed = (time.time()-start)/60\n",
    "    \n",
    "    if epoch%10 == 9:\n",
    "        print('epoch=',epoch, '\\t time=', elapsed,'min','\\t lr=', my_lr  ,'\\t loss=', total_loss , '\\t error=', total_error*100 ,'percent')\n",
    "        eval_on_test_set() \n",
    "        print(' ')"
   ]
  },
  {
   "cell_type": "code",
   "execution_count": null,
   "metadata": {
    "id": "iz0V21r4UbW6"
   },
   "outputs": [],
   "source": [
    "# choose a picture at random\n",
    "idx=randint(0, 100)\n",
    "im=test_data[idx]\n",
    "print(test_label[idx])\n",
    "\n",
    "# diplay the picture\n",
    "utils.show(im)\n",
    "\n",
    "# send to device, rescale, and view as a batch of 1 \n",
    "im = im.to(device)\n",
    "im= (im-mean) / std\n",
    "im=im.view(1,64,64).unsqueeze(dim=0)\n",
    "\n",
    "# feed it to the net and display the confidence scores\n",
    "scores =  net(im) \n",
    "probs= F.softmax(scores, dim=1)\n",
    "utils.show_prob_mnist(probs.cpu())"
   ]
  },
  {
   "cell_type": "code",
   "execution_count": null,
   "metadata": {},
   "outputs": [],
   "source": []
  }
 ],
 "metadata": {
  "accelerator": "GPU",
  "colab": {
   "collapsed_sections": [],
   "name": "cnn_yjp.ipynb",
   "private_outputs": true,
   "provenance": []
  },
  "kernelspec": {
   "display_name": "Python 3 (ipykernel)",
   "language": "python",
   "name": "python3"
  },
  "language_info": {
   "codemirror_mode": {
    "name": "ipython",
    "version": 3
   },
   "file_extension": ".py",
   "mimetype": "text/x-python",
   "name": "python",
   "nbconvert_exporter": "python",
   "pygments_lexer": "ipython3",
   "version": "3.7.10"
  }
 },
 "nbformat": 4,
 "nbformat_minor": 1
}
