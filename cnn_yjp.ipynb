{
  "nbformat": 4,
  "nbformat_minor": 0,
  "metadata": {
    "colab": {
      "name": "cnn_yjp.ipynb",
      "private_outputs": true,
      "provenance": [],
      "collapsed_sections": []
    },
    "kernelspec": {
      "name": "python3",
      "display_name": "Python 3"
    },
    "language_info": {
      "name": "python"
    },
    "accelerator": "GPU"
  },
  "cells": [
    {
      "cell_type": "code",
      "metadata": {
        "id": "dPJkGXS-rpNG"
      },
      "source": [
        "# # zip the file\n",
        "# import zipfile\n",
        "# zip_ref = zipfile.ZipFile(\"/content/gdrive/MyDrive/Processed Data/dataset_v1.1.zip\", 'r')\n",
        "# zip_ref.extractall(\"/content/gdrive/MyDrive/Processed Data/dataset\")\n",
        "# zip_ref.close()"
      ],
      "execution_count": null,
      "outputs": []
    },
    {
      "cell_type": "code",
      "metadata": {
        "id": "7detQ6OUwSCx"
      },
      "source": [
        "import sys, os\n",
        "if 'google.colab' in sys.modules:\n",
        "    # mount google drive\n",
        "    from google.colab import drive\n",
        "    drive.mount('/content/gdrive')\n",
        "    # file_name = 'dataset_v1.1.zip'\n",
        "    path_to_file = '/content/gdrive/MyDrive/CS5242 Project/dataset'\n",
        "    print(path_to_file)"
      ],
      "execution_count": null,
      "outputs": []
    },
    {
      "cell_type": "code",
      "metadata": {
        "id": "nTCsGkyW-xG0"
      },
      "source": [
        "py_file_location = \"/content/gdrive/MyDrive/Processed Data/dataset/dataset_v1.1\"\n",
        "sys.path.append(os.path.abspath(py_file_location))"
      ],
      "execution_count": null,
      "outputs": []
    },
    {
      "cell_type": "code",
      "metadata": {
        "id": "Fe0pvmUVtfFd"
      },
      "source": [
        "import torch\n",
        "import torch.nn as nn\n",
        "import torch.nn.functional as F\n",
        "import torch.optim as optim\n",
        "from random import randint\n",
        "import time\n",
        "import utils\n",
        "import os\n",
        "import pandas as pd\n",
        "import sys\n"
      ],
      "execution_count": null,
      "outputs": []
    },
    {
      "cell_type": "code",
      "metadata": {
        "id": "PwTkTV0Twjc-"
      },
      "source": [
        "train_data=torch.load(path_to_file+'/train_data_64x64.pt')\n",
        "train_label=torch.load(path_to_file+'/train_label_64x64.pt')\n",
        "test_data=torch.load(path_to_file+'/test_data_64x64.pt')\n",
        "test_label=torch.load(path_to_file+'/test_label_64x64.pt')"
      ],
      "execution_count": null,
      "outputs": []
    },
    {
      "cell_type": "code",
      "metadata": {
        "id": "7tm7KSEtQih-"
      },
      "source": [
        "print(train_data.size())\n",
        "print(test_data.size())"
      ],
      "execution_count": null,
      "outputs": []
    },
    {
      "cell_type": "code",
      "metadata": {
        "id": "XtzLUsQdu3ic"
      },
      "source": [
        "utils.show(train_data[5])\n",
        "train_label[5]"
      ],
      "execution_count": null,
      "outputs": []
    },
    {
      "cell_type": "code",
      "metadata": {
        "id": "VvIZIjNyLwrL"
      },
      "source": [
        "mean= train_data.mean()\n",
        "print(mean)\n",
        "std= train_data.std()\n",
        "print(std)"
      ],
      "execution_count": null,
      "outputs": []
    },
    {
      "cell_type": "code",
      "metadata": {
        "id": "U2VNKBsZFj8v"
      },
      "source": [
        "class VGG_convnet(nn.Module):\n",
        "\n",
        "    def __init__(self):\n",
        "\n",
        "        super(VGG_convnet, self).__init__()\n",
        "\n",
        "        # block 1:         3 x 64 x 64 --> 64 x 32 x 32        \n",
        "        self.conv1a = nn.Conv2d(3,   64,  kernel_size=3, padding=1 )\n",
        "        # self.conv1b = nn.Conv2d(64,  64,  kernel_size=3, padding=1 )\n",
        "        self.pool1  = nn.MaxPool2d(2,2)\n",
        "\n",
        "        # block 2:         64 x 32 x 32 --> 128 x 16 x 16\n",
        "        self.conv2a = nn.Conv2d(64,  128, kernel_size=3, padding=1 )\n",
        "        # self.conv2b = nn.Conv2d(128, 128, kernel_size=3, padding=1 )\n",
        "        self.pool2  = nn.MaxPool2d(2,2)\n",
        "\n",
        "        # block 3:         128 x 16 x 16 --> 256 x 8 x 8        \n",
        "        self.conv3a = nn.Conv2d(128, 256, kernel_size=3, padding=1 )\n",
        "        # self.conv3b = nn.Conv2d(256, 256, kernel_size=3, padding=1 )\n",
        "        self.pool3  = nn.MaxPool2d(2,2)\n",
        "        \n",
        "        #block 4:          256 x 8 x 8 --> 512 x 4 x 4\n",
        "        self.conv4a = nn.Conv2d(256, 512, kernel_size=3, padding=1 )\n",
        "        self.pool4  = nn.MaxPool2d(2,2)\n",
        "\n",
        "        #block 5:          512 x 4 x 4 --> 512 x 2 x 2\n",
        "        self.conv5a = nn.Conv2d(512, 512, kernel_size=3, padding=1 )\n",
        "        self.pool5  = nn.MaxPool2d(2,2)\n",
        "\n",
        "        # linear layers:   512 x 2 x 2 --> 32768 --> 4096 --> 4096 --> 10\n",
        "        self.linear1 = nn.Linear(2048, 4096)\n",
        "        self.linear2 = nn.Linear(4096,4096)\n",
        "        self.linear3 = nn.Linear(4096, 11)\n",
        "\n",
        "\n",
        "    def forward(self, x):\n",
        "\n",
        "        # block 1:         3 x 32 x 32 --> 64 x 16 x 16\n",
        "        x = self.conv1a(x)\n",
        "        x = torch.relu(x)\n",
        "        # x = self.conv1b(x)\n",
        "        # x = torch.relu(x)\n",
        "        x = self.pool1(x)\n",
        "\n",
        "        # block 2:         64 x 16 x 16 --> 128 x 8 x 8\n",
        "        x = self.conv2a(x)\n",
        "        x = torch.relu(x)\n",
        "        # x = self.conv2b(x)\n",
        "        # x = torch.relu(x)\n",
        "        x = self.pool2(x)\n",
        "\n",
        "        # block 3:         128 x 8 x 8 --> 256 x 4 x 4\n",
        "        x = self.conv3a(x)\n",
        "        x = torch.relu(x)\n",
        "        # x = self.conv3b(x)\n",
        "        # x = torch.relu(x)\n",
        "        x = self.pool3(x)\n",
        "\n",
        "        #block 4:          256 x 4 x 4 --> 512 x 2 x 2\n",
        "        x = self.conv4a(x)\n",
        "        x = torch.relu(x)\n",
        "        x = self.pool4(x)\n",
        "\n",
        "        #block 5:          256 x 4 x 4 --> 256 x 2 x 2\n",
        "        x = self.conv5a(x)\n",
        "        x = torch.relu(x)\n",
        "        x = self.pool5(x)\n",
        "\n",
        "        # linear layers:   512 x 2 x 2 --> 2048 --> 4096 --> 4096 --> 10\n",
        "        x = x.view(-1, 2048)\n",
        "        x = self.linear1(x)\n",
        "        x = torch.relu(x)\n",
        "        x = self.linear2(x)\n",
        "        x = torch.relu(x)\n",
        "        x = self.linear3(x) \n",
        "        \n",
        "        return x"
      ],
      "execution_count": null,
      "outputs": []
    },
    {
      "cell_type": "code",
      "metadata": {
        "id": "9W_Z9ptHHZBH"
      },
      "source": [
        "net = VGG_convnet()\n",
        "print(net)\n",
        "utils.display_num_param(net)"
      ],
      "execution_count": null,
      "outputs": []
    },
    {
      "cell_type": "code",
      "metadata": {
        "id": "oVNtbu-uK5Jo"
      },
      "source": [
        "device= torch.device(\"cuda\")\n",
        "# device= torch.device(\"cpu\")\n",
        "print(device)"
      ],
      "execution_count": null,
      "outputs": []
    },
    {
      "cell_type": "code",
      "metadata": {
        "id": "fhNLTwjhNbKg"
      },
      "source": [
        "net = net.to(device)\n",
        "\n",
        "mean = mean.to(device)\n",
        "\n",
        "std = std.to(device)"
      ],
      "execution_count": null,
      "outputs": []
    },
    {
      "cell_type": "code",
      "metadata": {
        "id": "eqxAgRoDKuhZ"
      },
      "source": [
        "criterion = nn.CrossEntropyLoss()\n",
        "my_lr= 0.01\n",
        "bs= 5"
      ],
      "execution_count": null,
      "outputs": []
    },
    {
      "cell_type": "code",
      "metadata": {
        "id": "_oyhmQxFJLem"
      },
      "source": [
        "def eval_on_test_set():\n",
        "\n",
        "    running_error=0\n",
        "    num_batches=0\n",
        "\n",
        "    for i in range(0,96,bs):\n",
        "\n",
        "        minibatch_data =  test_data[i:i+bs]\n",
        "        minibatch_label= test_label[i:i+bs]\n",
        "\n",
        "        minibatch_data=minibatch_data.to(device)\n",
        "        minibatch_label=minibatch_label.to(device)\n",
        "        \n",
        "        inputs = (minibatch_data - mean)/std\n",
        "        # inputs = minibatch_data\n",
        "\n",
        "        scores=net( inputs ) \n",
        "\n",
        "        error = utils.get_error( scores , minibatch_label)\n",
        "\n",
        "        running_error += error.item()\n",
        "\n",
        "        num_batches+=1\n",
        "\n",
        "    total_error = running_error/num_batches\n",
        "    print( 'error rate on test set =', total_error*100 ,'percent')"
      ],
      "execution_count": null,
      "outputs": []
    },
    {
      "cell_type": "code",
      "metadata": {
        "id": "53jLeT1Do83O"
      },
      "source": [
        ""
      ],
      "execution_count": null,
      "outputs": []
    },
    {
      "cell_type": "code",
      "metadata": {
        "id": "E-xduVi8KmF8"
      },
      "source": [
        "start=time.time()\n",
        "\n",
        "for epoch in range(1,100):\n",
        "    \n",
        "    # divide the learning rate by 2 at epoch 10, 14 and 18\n",
        "    if epoch == 5: \n",
        "      my_lr = my_lr/2\n",
        "    \n",
        "    # create a new optimizer at the beginning of each epoch: give the current learning rate.   \n",
        "    optimizer=torch.optim.SGD( net.parameters() , lr=my_lr )\n",
        "        \n",
        "    # set the running quatities to zero at the beginning of the epoch\n",
        "    running_loss=0\n",
        "    running_error=0\n",
        "    num_batches=0\n",
        "    \n",
        "    # set the order in which to visit the image from the training set\n",
        "    shuffled_indices=torch.randperm(992)\n",
        " \n",
        "    for count in range(0,992,bs):\n",
        "    \n",
        "        # Set the gradients to zeros\n",
        "        optimizer.zero_grad()\n",
        "        \n",
        "        # create a minibatch       \n",
        "        indices=shuffled_indices[count:count+bs]\n",
        "        minibatch_data =  train_data[indices]\n",
        "        minibatch_label=  train_label[indices]\n",
        "        \n",
        "        # send them to the gpu\n",
        "        minibatch_data=minibatch_data.to(device)\n",
        "        minibatch_label=minibatch_label.to(device)\n",
        "        \n",
        "        # normalize the minibatch (this is the only difference compared to before!)\n",
        "        inputs = (minibatch_data - mean)/std\n",
        "        # inputs = minibatch_data\n",
        "        \n",
        "        # tell Pytorch to start tracking all operations that will be done on \"inputs\"\n",
        "        inputs.requires_grad_()\n",
        "\n",
        "        # forward the minibatch through the net \n",
        "        # scores=net( inputs ) \n",
        "        scores=net( inputs )\n",
        "\n",
        "        # Compute the average of the losses of the data points in the minibatch\n",
        "        loss =  criterion( scores , minibatch_label) \n",
        "        \n",
        "        # backward pass to compute dL/dU, dL/dV and dL/dW   \n",
        "        loss.backward()\n",
        "\n",
        "        # do one step of stochastic gradient descent: U=U-lr(dL/dU), V=V-lr(dL/dU), ...\n",
        "        optimizer.step()\n",
        "        \n",
        "\n",
        "        # START COMPUTING STATS\n",
        "        \n",
        "        # add the loss of this batch to the running loss\n",
        "        running_loss += loss.detach().item()\n",
        "        \n",
        "        # compute the error made on this batch and add it to the running error       \n",
        "        error = utils.get_error( scores.detach() , minibatch_label)\n",
        "        running_error += error.item()\n",
        "        \n",
        "        num_batches+=1        \n",
        "    \n",
        "    \n",
        "    # compute stats for the full training set\n",
        "    total_loss = running_loss/num_batches\n",
        "    total_error = running_error/num_batches\n",
        "    elapsed = (time.time()-start)/60\n",
        "    \n",
        "    if epoch%10 == 0:\n",
        "      print('epoch=',epoch, '\\t time=', elapsed,'min','\\t lr=', my_lr  ,'\\t loss=', total_loss , '\\t error=', total_error*100 ,'percent')\n",
        "      eval_on_test_set() \n",
        "      print(' ')"
      ],
      "execution_count": null,
      "outputs": []
    },
    {
      "cell_type": "code",
      "metadata": {
        "id": "iz0V21r4UbW6"
      },
      "source": [
        "# choose a picture at random\n",
        "idx=randint(0, 24)\n",
        "im=test_data[idx]\n",
        "print(test_label[idx])\n",
        "\n",
        "# diplay the picture\n",
        "utils.show(im)\n",
        "\n",
        "# send to device, rescale, and view as a batch of 1 \n",
        "im = im.to(device)\n",
        "im= (im-mean) / std\n",
        "im=im.view(3,64,64).unsqueeze(dim=0)\n",
        "\n",
        "# feed it to the net and display the confidence scores\n",
        "scores =  net(im) \n",
        "probs= F.softmax(scores, dim=1)\n",
        "utils.show_prob_mnist(probs.cpu())"
      ],
      "execution_count": null,
      "outputs": []
    }
  ]
}