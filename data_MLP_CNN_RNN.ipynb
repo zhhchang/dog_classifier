{
 "cells": [
  {
   "cell_type": "code",
   "execution_count": 39,
   "id": "7e4df1d7",
   "metadata": {},
   "outputs": [
    {
     "ename": "ModuleNotFoundError",
     "evalue": "No module named 'cv2'",
     "output_type": "error",
     "traceback": [
      "\u001b[0;31m---------------------------------------------------------------------------\u001b[0m",
      "\u001b[0;31mModuleNotFoundError\u001b[0m                       Traceback (most recent call last)",
      "\u001b[0;32m/tmp/ipykernel_187312/729368667.py\u001b[0m in \u001b[0;36m<module>\u001b[0;34m\u001b[0m\n\u001b[1;32m     15\u001b[0m \u001b[0;32mimport\u001b[0m \u001b[0mpandas\u001b[0m \u001b[0;32mas\u001b[0m \u001b[0mpd\u001b[0m\u001b[0;34m\u001b[0m\u001b[0;34m\u001b[0m\u001b[0m\n\u001b[1;32m     16\u001b[0m \u001b[0;32mimport\u001b[0m \u001b[0mmath\u001b[0m\u001b[0;34m\u001b[0m\u001b[0;34m\u001b[0m\u001b[0m\n\u001b[0;32m---> 17\u001b[0;31m \u001b[0;32mimport\u001b[0m \u001b[0mcv2\u001b[0m\u001b[0;34m\u001b[0m\u001b[0;34m\u001b[0m\u001b[0m\n\u001b[0m",
      "\u001b[0;31mModuleNotFoundError\u001b[0m: No module named 'cv2'"
     ]
    }
   ],
   "source": [
    "import torch\n",
    "import torch.nn as nn\n",
    "import torch.nn.functional as F\n",
    "import torch.optim as optim\n",
    "from random import randint\n",
    "import time, os\n",
    "import utils\n",
    "import matplotlib.pyplot as plt\n",
    "import numpy as np\n",
    "from PIL import Image\n",
    "from torchvision.transforms import transforms\n",
    "import requests\n",
    "from os.path import dirname, exists\n",
    "from os import makedirs\n",
    "import pandas as pd\n",
    "import math\n",
    "import cv2"
   ]
  },
  {
   "cell_type": "code",
   "execution_count": 78,
   "id": "b86828f1",
   "metadata": {},
   "outputs": [],
   "source": [
    "# dataset image path\n",
    "train_img_path = '../dog_dataset/train_64x64'\n",
    "test_img_path = '../dog_dataset/test_64x64'\n",
    "\n",
    "# rgb dataset .pt path\n",
    "train_data=torch.load('../dog_dataset/train_data_final.pt')\n",
    "train_label=torch.load('../dog_dataset/train_label_final.pt')\n",
    "test_data=torch.load('../dog_dataset/test_data_final.pt')\n",
    "test_label=torch.load('../dog_dataset/test_label_final.pt')"
   ]
  },
  {
   "cell_type": "markdown",
   "id": "b556d4df",
   "metadata": {},
   "source": [
    "# Dataset Collection #"
   ]
  },
  {
   "cell_type": "markdown",
   "id": "2b2f267c",
   "metadata": {},
   "source": [
    "Generate scraper to download the images from https://dog.ceo/dog-api/ for all the breeds to form our raw dataset."
   ]
  },
  {
   "cell_type": "code",
   "execution_count": null,
   "id": "74b7d822",
   "metadata": {},
   "outputs": [],
   "source": [
    "project_path = dirname(__file__)\n",
    "data_dir = project_path + \"/data\"\n",
    "if not exists(data_dir):\n",
    "    makedirs(data_dir)\n",
    "\n",
    "\n",
    "breed_url = \"https://dog.ceo/api/breeds/list/all\"\n",
    "breed_response = requests.get(breed_url)\n",
    "breed_dict = breed_response.json().get('message')\n",
    "single_breed = [x for x in breed_dict if len(breed_dict.get(x)) == 0]\n",
    "multi_breed = [i+\"/\"+j for i in breed_dict for j in breed_dict.get(i) if len(breed_dict.get(i)) > 0]\n",
    "breed_lst = single_breed + multi_breed\n",
    "\n",
    "\n",
    "def get_img_url(breed):\n",
    "    url = f\"https://dog.ceo/api/breed/{breed}/images\"\n",
    "    img_response = requests.get(url)\n",
    "    img_lst = img_response.json().get('message')\n",
    "    if not exists(f\"{data_dir}/{breed}\"):\n",
    "        makedirs(f\"{data_dir}/{breed}\")\n",
    "    for i in img_lst:\n",
    "        download_img(breed, i)\n",
    "\n",
    "\n",
    "def download_img(breed, url):\n",
    "    response = requests.get(url)\n",
    "    with open(f\"{data_dir}/{breed}/{url.split('/')[-1]}\", \"wb\") as file:\n",
    "        file.write(response.content)\n",
    "\n",
    "\n",
    "for i in breed_lst:\n",
    "    get_img_url(i)\n"
   ]
  },
  {
   "cell_type": "markdown",
   "id": "8e911256",
   "metadata": {},
   "source": [
    "# Exploratory Data Analysis And Data Preprocessing #"
   ]
  },
  {
   "cell_type": "markdown",
   "id": "d9734129",
   "metadata": {},
   "source": [
    "## First Look of the Raw Dataset ##"
   ]
  },
  {
   "cell_type": "markdown",
   "id": "8923a0a0",
   "metadata": {},
   "source": [
    "A glance of the raw dataset downloaded from Dog API using the scraper \n",
    "<div>\n",
    "    <img src=\"report_attachment/raw_data_look.png\" width='500' align='left'>\n",
    "</div>"
   ]
  },
  {
   "cell_type": "code",
   "execution_count": 53,
   "id": "a2fda93e",
   "metadata": {},
   "outputs": [
    {
     "name": "stdout",
     "output_type": "stream",
     "text": [
      "Total number of breeds in the raw dataset:  91\n"
     ]
    }
   ],
   "source": [
    "raw_data_path = '../data'\n",
    "print('Total number of breeds in the raw dataset: ', len([i for i in os.listdir(raw_data_path)]))"
   ]
  },
  {
   "cell_type": "markdown",
   "id": "2c2a1fc3",
   "metadata": {},
   "source": [
    "## Dataset Preperation ##"
   ]
  },
  {
   "cell_type": "markdown",
   "id": "3e886b9f",
   "metadata": {},
   "source": [
    "There are in total 91 dog breeds in the raw dataset.  \n",
    "However, the data sizes for each breed are varing from a dozen to more than a hundred.  \n",
    "To create a balanced dataset, we have filtered **10 most popular dog breeds** out of the list and with data size **more than 100 images** .  \n",
    "Below is the list of dog breeds to be classified in our classsifier."
   ]
  },
  {
   "cell_type": "code",
   "execution_count": 79,
   "id": "6295c485",
   "metadata": {},
   "outputs": [],
   "source": [
    "# list of dog breeds to be classified in our dog classifier\n",
    "dog_dict = {\n",
    "    'affenpinscher':0,\n",
    "    'beagle':1,\n",
    "    'boxer':2,\n",
    "    'chihuahua':3,\n",
    "    'frenchbulldog':4,\n",
    "    'goldenretriever':5,\n",
    "    'rottweiler':6,\n",
    "    'schnauzer':7,\n",
    "    'sheepdog':8,\n",
    "    'spaniel':9\n",
    "}"
   ]
  },
  {
   "cell_type": "markdown",
   "id": "a3a6afa5",
   "metadata": {},
   "source": [
    "To improve the quality of the dataset, we screen through the images and unsuitable images are removed from the dataset, e.g., images with vague objects.  \n",
    "After data cleaning, the dataset is seperated into 2 sets: train set and test set with balanced class distribution."
   ]
  },
  {
   "cell_type": "code",
   "execution_count": 80,
   "id": "9171e847",
   "metadata": {},
   "outputs": [
    {
     "name": "stdout",
     "output_type": "stream",
     "text": [
      "train set size:  979\n",
      "test set size:  100\n"
     ]
    }
   ],
   "source": [
    "print('train set size: ', train_data.size()[0])\n",
    "print('test set size: ', test_data.size()[0])"
   ]
  },
  {
   "cell_type": "code",
   "execution_count": 81,
   "id": "2d2e8469",
   "metadata": {},
   "outputs": [
    {
     "data": {
      "image/png": "[encoded data removed]",
      "text/plain": [
       "<Figure size 432x288 with 2 Axes>"
      ]
     },
     "metadata": {},
     "output_type": "display_data"
    }
   ],
   "source": [
    "fig = plt.figure()\n",
    "\n",
    "# train data class distribution\n",
    "ax1 = fig.add_axes([0, 0, 1, 1], aspect=1)\n",
    "plt.title(\"train data\")\n",
    "data = train_label.numpy()\n",
    "data = pd.Series(data).value_counts()\n",
    "label_num = data.index.tolist()\n",
    "label = []\n",
    "for i in range(len(label_num)):\n",
    "    label.append([k for k, v in dog_dict.items() if v == label_num[i]])\n",
    "label = np.asarray(label).squeeze()\n",
    "ax1.pie(data, labels = label, autopct='%.2f%%')\n",
    "\n",
    "# test data class distribution\n",
    "ax2 = fig.add_axes([1, .0, 1, 1], aspect=1)\n",
    "plt.title(\"test data\")\n",
    "data = test_label.numpy()\n",
    "data = pd.Series(data).value_counts()\n",
    "label_num = data.index.tolist()\n",
    "label = []\n",
    "for i in range(len(label_num)):\n",
    "    label.append([k for k, v in dog_dict.items() if v == label_num[i]])\n",
    "label = np.asarray(label).squeeze()\n",
    "ax2.pie(data, labels = label, autopct='%.2f%%')\n",
    "plt.show()"
   ]
  },
  {
   "cell_type": "markdown",
   "id": "ff85ffcd",
   "metadata": {},
   "source": [
    "## Data Preprocessing ##"
   ]
  },
  {
   "cell_type": "markdown",
   "id": "d885dd61",
   "metadata": {},
   "source": [
    " ### Crop Images ###"
   ]
  },
  {
   "cell_type": "markdown",
   "id": "7b18019e",
   "metadata": {},
   "source": [
    "Manually crop dataset images to 1:1 with clear and complete object"
   ]
  },
  {
   "cell_type": "markdown",
   "id": "b696fdc1",
   "metadata": {},
   "source": [
    "### Create Different Dataset with Corresponding Label ###"
   ]
  },
  {
   "cell_type": "markdown",
   "id": "ce972947",
   "metadata": {},
   "source": [
    "#### 64x64 RGB Dataset ####"
   ]
  },
  {
   "cell_type": "code",
   "execution_count": 83,
   "id": "fc253088",
   "metadata": {},
   "outputs": [],
   "source": [
    "# resize rgb data to 64x64\n",
    "resize_norm = img_trans = transforms.Compose([transforms.Resize([64,64]),\n",
    "                                              transforms.ToTensor()])\n",
    "    \n",
    "# train data\n",
    "train_data = torch.Tensor([])\n",
    "train_label = []\n",
    "for img in os.listdir(train_img_path):\n",
    "    pic_data = []\n",
    "    breed = img.split('_')[0]\n",
    "    pic_label = dog_dict[breed]\n",
    "    train_label.append(pic_label)\n",
    "    pic = Image.open(os.path.join(train_img_path,img)) \n",
    "    trans_pic = resize_norm(pic)\n",
    "    trans_pic = torch.unsqueeze(trans_pic, dim=0)\n",
    "    train_data = torch.cat((train_data, trans_pic),0)\n",
    "    \n",
    "# test data\n",
    "test_data = torch.Tensor([])\n",
    "test_label = []\n",
    "for img in os.listdir(test_img_path):\n",
    "    pic_data = []\n",
    "    breed = img.split('_')[0]\n",
    "    pic_label = dog_dict[breed]\n",
    "    test_label.append(pic_label)\n",
    "    pic = Image.open(os.path.join(test_img_path,img)) \n",
    "    trans_pic = resize_norm(pic)\n",
    "    trans_pic = torch.unsqueeze(trans_pic, dim=0)\n",
    "    test_data = torch.cat((test_data, trans_pic),0)\n",
    "\n",
    "# change label from list to tensor\n",
    "train_label = torch.tensor(train_label)\n",
    "test_label = torch.tensor(test_label)\n",
    "\n",
    "# save train data and label to .pt file\n",
    "torch.save(train_data, '../dog_dataset/train_data_final.pt')\n",
    "torch.save(train_label, '../dog_dataset/train_label_final.pt')\n",
    "torch.save(test_data, '../dog_dataset/test_data_final.pt')\n",
    "torch.save(test_label, '../dog_dataset/test_label_final.pt')"
   ]
  },
  {
   "cell_type": "code",
   "execution_count": 89,
   "id": "dff874d8",
   "metadata": {},
   "outputs": [
    {
     "data": {
      "image/png": "[encoded data removed]",
      "text/plain": [
       "<Figure size 432x288 with 1 Axes>"
      ]
     },
     "metadata": {
      "needs_background": "light"
     },
     "output_type": "display_data"
    }
   ],
   "source": [
    "utils.show(train_data[4])"
   ]
  },
  {
   "cell_type": "markdown",
   "id": "2a9a687b",
   "metadata": {},
   "source": [
    "#### 64x64 Grayscale Dataset ####"
   ]
  },
  {
   "cell_type": "code",
   "execution_count": 84,
   "id": "b34de63a",
   "metadata": {},
   "outputs": [],
   "source": [
    "# rgb to gray\n",
    "rgb_to_gray = transforms.Compose([transforms.Resize([64,64]),\n",
    "                                  transforms.Grayscale(num_output_channels=1),\n",
    "                                  transforms.ToTensor()])\n",
    "\n",
    "# train data\n",
    "train_data_gray = torch.Tensor([])\n",
    "train_label_gray = []\n",
    "for img in os.listdir(train_img_path):\n",
    "    pic_data = []\n",
    "    breed = img.split('_')[0]\n",
    "    pic_label = dog_dict[breed]\n",
    "    train_label_gray.append(pic_label)\n",
    "    pic = Image.open(os.path.join(train_img_path,img))\n",
    "    pic = rgb_to_gray(pic)\n",
    "    train_data_gray = torch.cat((train_data_gray, pic),0)\n",
    "    \n",
    "# test data\n",
    "test_data_gray = torch.Tensor([])\n",
    "test_label_gray = []\n",
    "for img in os.listdir(test_img_path):\n",
    "    pic_data = []\n",
    "    breed = img.split('_')[0]\n",
    "    pic_label = dog_dict[breed]\n",
    "    test_label_gray.append(pic_label)\n",
    "    pic = Image.open(os.path.join(test_img_path,img))\n",
    "    pic = rgb_to_gray(pic)\n",
    "    test_data_gray = torch.cat((test_data_gray, pic),0)\n",
    "    \n",
    "# change label from list to tensor\n",
    "train_label_gray = torch.tensor(train_label_gray)\n",
    "test_label_gray = torch.tensor(test_label_gray)\n",
    "    \n",
    "# save train data and label to .pt file\n",
    "torch.save(train_data_gray, '../dog_dataset/train_data_gray.pt')\n",
    "torch.save(train_label_gray, '../dog_dataset/train_label_gray.pt')\n",
    "torch.save(test_data_gray, '../dog_dataset/test_data_gray.pt')\n",
    "torch.save(test_label_gray, '../dog_dataset/test_label_gray.pt')"
   ]
  },
  {
   "cell_type": "code",
   "execution_count": 88,
   "id": "9bce1ba5",
   "metadata": {},
   "outputs": [
    {
     "data": {
      "image/png": "[encoded data removed]",
      "text/plain": [
       "<Figure size 432x288 with 1 Axes>"
      ]
     },
     "metadata": {
      "needs_background": "light"
     },
     "output_type": "display_data"
    }
   ],
   "source": [
    "utils.show(train_data_gray[4])"
   ]
  },
  {
   "cell_type": "markdown",
   "id": "2b73143a",
   "metadata": {},
   "source": [
    "#### 64x64 Image Augmentation ####"
   ]
  },
  {
   "cell_type": "code",
   "execution_count": 91,
   "id": "1cc5cbc9",
   "metadata": {},
   "outputs": [],
   "source": [
    "# image augmentation\n",
    "img_augmentation = transforms.Compose([transforms.Resize([64,64]),\n",
    "                                        transforms.RandomHorizontalFlip(),\n",
    "                                        transforms.ColorJitter(brightness=0.3, contrast=0.3),\n",
    "                                        transforms.ToTensor()])\n",
    "\n",
    "#train data\n",
    "train_data_aug = torch.Tensor([])\n",
    "train_label_aug = []\n",
    "for img in os.listdir(train_img_path):\n",
    "    pic_data = []\n",
    "    breed = img.split('_')[0]\n",
    "    pic_label = dog_dict[breed]\n",
    "    train_label_aug.append(pic_label)\n",
    "    pic = Image.open(os.path.join(train_img_path,img)) \n",
    "    trans_pic = img_augmentation(pic)\n",
    "    trans_pic = torch.unsqueeze(trans_pic, dim=0)\n",
    "    train_data_aug = torch.cat((train_data_aug, trans_pic),0)\n",
    "    \n",
    "# change label from list to tensor\n",
    "train_label_aug = torch.tensor(train_label_aug)\n",
    "\n",
    "# save test data and label to .pt file\n",
    "torch.save(train_data_aug, '../dog_dataset/train_data_aug.pt')\n",
    "torch.save(train_label_aug, '../dog_dataset/train_label_aug.pt')"
   ]
  },
  {
   "cell_type": "markdown",
   "id": "ded820b8",
   "metadata": {},
   "source": [
    "Create augmented dataset by random flip, brightness and contrast adjustment.  \n",
    "(top: original data, bottom: augmented data)  \n",
    "<div>\n",
    "    <img src=\"report_attachment/image_aug_compare.png\" width='250' align='left'>\n",
    "</div>"
   ]
  },
  {
   "cell_type": "markdown",
   "id": "e60c73f7",
   "metadata": {},
   "source": [
    "## MLP"
   ]
  },
  {
   "cell_type": "code",
   "execution_count": 19,
   "id": "0d98bf66",
   "metadata": {},
   "outputs": [
    {
     "name": "stdout",
     "output_type": "stream",
     "text": [
      "cuda\n"
     ]
    }
   ],
   "source": [
    "device= torch.device(\"cuda\")\n",
    "print(device)"
   ]
  },
  {
   "cell_type": "markdown",
   "id": "f4d6c634",
   "metadata": {},
   "source": [
    "### Load RGD Dataset"
   ]
  },
  {
   "cell_type": "code",
   "execution_count": 20,
   "id": "5bde7f94",
   "metadata": {},
   "outputs": [
    {
     "name": "stdout",
     "output_type": "stream",
     "text": [
      "torch.Size([979, 3, 64, 64])\n",
      "torch.Size([100, 3, 64, 64])\n",
      "torch.Size([979])\n",
      "torch.Size([100])\n"
     ]
    }
   ],
   "source": [
    "dataset_folder=''\n",
    "train_data=torch.load(dataset_folder+'train_data_final.pt')\n",
    "print(train_data.size())\n",
    "\n",
    "test_data=torch.load(dataset_folder+'test_data_final.pt')\n",
    "print(test_data.size())\n",
    "\n",
    "train_label=torch.load(dataset_folder+'train_label_final.pt')\n",
    "print(train_label.size())\n",
    "\n",
    "test_label=torch.load(dataset_folder+'test_label_final.pt')\n",
    "print(test_label.size())"
   ]
  },
  {
   "cell_type": "code",
   "execution_count": 21,
   "id": "a51d839f",
   "metadata": {},
   "outputs": [],
   "source": [
    "class three_layer_net(nn.Module):\n",
    "\n",
    "    def __init__(self, input_size, hidden_size1, hidden_size2, hidden_size3,output_size):\n",
    "        super(three_layer_net , self).__init__()\n",
    "\n",
    "        self.layer1 = nn.Linear(  input_size   , hidden_size1  , bias=False  )\n",
    "        self.layer2 = nn.Linear(  hidden_size1 , hidden_size2  , bias=False  )\n",
    "        self.layer3 = nn.Linear(  hidden_size2 , hidden_size3  , bias=False  )\n",
    "        self.layer4 = nn.Linear(  hidden_size3 , output_size   , bias=False  )        \n",
    "        \n",
    "    def forward(self, x):\n",
    "        \n",
    "        y       = self.layer1(x)\n",
    "        y_hat   = torch.relu(y)\n",
    "        z       = self.layer2(y_hat)\n",
    "        z_hat   = torch.relu(z)\n",
    "        a       = self.layer3(z_hat)\n",
    "        a_hat   = torch.relu(a)\n",
    "        scores  = self.layer4(a_hat)\n",
    "        \n",
    "        return scores"
   ]
  },
  {
   "cell_type": "code",
   "execution_count": 22,
   "id": "570b9891",
   "metadata": {},
   "outputs": [
    {
     "name": "stdout",
     "output_type": "stream",
     "text": [
      "three_layer_net(\n",
      "  (layer1): Linear(in_features=12288, out_features=500, bias=False)\n",
      "  (layer2): Linear(in_features=500, out_features=500, bias=False)\n",
      "  (layer3): Linear(in_features=500, out_features=500, bias=False)\n",
      "  (layer4): Linear(in_features=500, out_features=11, bias=False)\n",
      ")\n"
     ]
    }
   ],
   "source": [
    "net=three_layer_net(12288,500,500,500,11)\n",
    "print(net)\n",
    "criterion = nn.CrossEntropyLoss()\n",
    "optimizer=torch.optim.SGD( net.parameters() , lr=0.01 )\n",
    "bs= 10"
   ]
  },
  {
   "cell_type": "code",
   "execution_count": 23,
   "id": "236d2782",
   "metadata": {},
   "outputs": [],
   "source": [
    "def eval_on_test_set_mlp():\n",
    "\n",
    "    running_error=0\n",
    "    num_batches=0\n",
    "\n",
    "\n",
    "    for i in range(0,100,bs):\n",
    "\n",
    "        # extract the minibatch\n",
    "        minibatch_data =  test_data[i:i+bs]\n",
    "        minibatch_label= test_label[i:i+bs]\n",
    "        # send them to the gpu\n",
    "        #minibatch_data=minibatch_data.to(device)\n",
    "        #minibatch_label=minibatch_label.to(device)\n",
    "\n",
    "        # reshape the minibatch\n",
    "        inputs = minibatch_data.view(bs,12288)\n",
    "\n",
    "        # feed it to the network\n",
    "        scores=net( inputs ) \n",
    "\n",
    "        # compute the error made on this batch\n",
    "        error = utils.get_error( scores , minibatch_label)\n",
    "\n",
    "        # add it to the running error\n",
    "        running_error += error.item()\n",
    "\n",
    "        num_batches+=1\n",
    "\n",
    "\n",
    "    # compute error rate on the full test set\n",
    "    total_error = running_error/num_batches\n",
    "\n",
    "    print( 'error rate on test set =', total_error*100 ,'percent')"
   ]
  },
  {
   "cell_type": "code",
   "execution_count": 24,
   "id": "d8e8eb7c",
   "metadata": {},
   "outputs": [
    {
     "name": "stdout",
     "output_type": "stream",
     "text": [
      "epoch= 0 \t time= 0.4412417411804199 \t loss= 2.3636210161386075 \t error= 88.65979313850403 percent\n",
      "error rate on test set = 86.99999868869781 percent\n",
      " \n",
      "epoch= 1 \t time= 0.8581478595733643 \t loss= 2.2861991690606187 \t error= 83.40206121661 percent\n",
      "error rate on test set = 81.99999868869781 percent\n",
      " \n",
      "epoch= 2 \t time= 1.2627465724945068 \t loss= 2.1917054100134936 \t error= 79.4845359227092 percent\n",
      "error rate on test set = 83.99999976158142 percent\n",
      " \n",
      "epoch= 3 \t time= 1.6771886348724365 \t loss= 2.0970236812670207 \t error= 77.01030920461281 percent\n",
      "error rate on test set = 75.0 percent\n",
      " \n",
      "epoch= 4 \t time= 2.1073405742645264 \t loss= 2.049530719973377 \t error= 74.74226785689285 percent\n",
      "error rate on test set = 79.00000035762787 percent\n",
      " \n",
      "epoch= 5 \t time= 2.5222604274749756 \t loss= 2.0038245400202643 \t error= 76.08247423909374 percent\n",
      "error rate on test set = 69.99999940395355 percent\n",
      " \n",
      "epoch= 6 \t time= 2.94783353805542 \t loss= 1.9811773767176362 \t error= 73.71133977604896 percent\n",
      "error rate on test set = 69.00000035762787 percent\n",
      " \n",
      "epoch= 7 \t time= 3.3590056896209717 \t loss= 1.9367577071042406 \t error= 72.26804126169264 percent\n",
      "error rate on test set = 73.00000071525574 percent\n",
      " \n",
      "epoch= 8 \t time= 3.76385235786438 \t loss= 1.9007389361096412 \t error= 70.20618559158954 percent\n",
      "error rate on test set = 74.00000035762787 percent\n",
      " \n",
      "epoch= 9 \t time= 4.194194078445435 \t loss= 1.8704610694315016 \t error= 69.38144331125869 percent\n",
      "error rate on test set = 72.00000047683716 percent\n",
      " \n"
     ]
    }
   ],
   "source": [
    "start=time.time()\n",
    "\n",
    "for epoch in range(10):\n",
    "    \n",
    "    running_loss=0\n",
    "    running_error=0\n",
    "    num_batches=0\n",
    "    \n",
    "    shuffled_indices=torch.randperm(970)\n",
    " \n",
    "    for count in range(0,970,bs):\n",
    "    \n",
    "        # Set the gradients to zeros\n",
    "        optimizer.zero_grad()\n",
    "        \n",
    "        # create a minibatch       \n",
    "        indices=shuffled_indices[count:count+bs]\n",
    "        minibatch_data =  train_data[indices]\n",
    "        minibatch_label=  train_label[indices]\n",
    "        \n",
    "        # send them to the gpu\n",
    "        #minibatch_data=minibatch_data.to(device)\n",
    "        #minibatch_label=minibatch_label.to(device)\n",
    "        \n",
    "        # reshape the minibatch\n",
    "        inputs = minibatch_data.view(bs,12288)\n",
    "\n",
    "        # tell Pytorch to start tracking all operations that will be done on \"inputs\"\n",
    "        inputs.requires_grad_()\n",
    "\n",
    "        # forward the minibatch through the net \n",
    "        scores=net( inputs ) \n",
    "\n",
    "        # Compute the average of the losses of the data points in the minibatch\n",
    "        loss =  criterion( scores , minibatch_label) \n",
    "        \n",
    "        # backward pass to compute dL/dU, dL/dV and dL/dW   \n",
    "        loss.backward()\n",
    "\n",
    "        # do one step of stochastic gradient descent: U=U-lr(dL/dU), V=V-lr(dL/dU), ...\n",
    "        optimizer.step()\n",
    "        \n",
    "\n",
    "        # START COMPUTING STATS\n",
    "        \n",
    "        # add the loss of this batch to the running loss\n",
    "        running_loss += loss.detach().item()\n",
    "        \n",
    "        # compute the error made on this batch and add it to the running error       \n",
    "        error = utils.get_error( scores.detach() , minibatch_label)\n",
    "        running_error += error.item()\n",
    "        \n",
    "        num_batches+=1        \n",
    "    \n",
    "    \n",
    "    # compute stats for the full training set\n",
    "    total_loss = running_loss/num_batches\n",
    "    total_error = running_error/num_batches\n",
    "    elapsed = time.time()-start\n",
    "    \n",
    "#if epoch%2 == 0:\n",
    "    print('epoch=',epoch, '\\t time=', elapsed, '\\t loss=', total_loss , '\\t error=', total_error*100 ,'percent')\n",
    "    eval_on_test_set_mlp() \n",
    "    print(' ')"
   ]
  },
  {
   "cell_type": "markdown",
   "id": "83b2a915",
   "metadata": {},
   "source": [
    "## CNN for Dog Breed Classification"
   ]
  },
  {
   "cell_type": "code",
   "execution_count": 25,
   "id": "e7983848",
   "metadata": {},
   "outputs": [],
   "source": [
    "class Vgg_convnet(nn.Module):\n",
    "\n",
    "    def __init__(self):\n",
    "\n",
    "        super(Vgg_convnet, self).__init__()\n",
    "\n",
    "        # block 1:         3 x 64 x 64 --> 64 x 32 x 32        \n",
    "        self.conv1a = nn.Conv2d(3,   64,  kernel_size=8, padding=4 )\n",
    "        # self.conv1b = nn.Conv2d(64,  64,  kernel_size=3, padding=1 )\n",
    "        self.pool1  = nn.MaxPool2d(2,2)\n",
    "\n",
    "        # block 2:         64 x 32 x 32 --> 128 x 16 x 16\n",
    "        self.conv2a = nn.Conv2d(64,  128, kernel_size=4, padding=2 )\n",
    "        # self.conv2b = nn.Conv2d(128, 128, kernel_size=3, padding=1 )\n",
    "        self.pool2  = nn.MaxPool2d(2,2)\n",
    "\n",
    "        # block 3:         128 x 16 x 16 --> 256 x 8 x 8        \n",
    "        self.conv3a = nn.Conv2d(128, 256, kernel_size=3, padding=1 )\n",
    "        # self.conv3b = nn.Conv2d(256, 256, kernel_size=3, padding=1 )\n",
    "        self.pool3  = nn.MaxPool2d(2,2)\n",
    "        \n",
    "        #block 4:          256 x 8 x 8 --> 512 x 4 x 4\n",
    "        self.conv4a = nn.Conv2d(256, 512, kernel_size=3, padding=1 )\n",
    "        self.pool4  = nn.MaxPool2d(2,2)\n",
    "\n",
    "        #block 5:          512 x 4 x 4 --> 512 x 2 x 2\n",
    "        self.conv5a = nn.Conv2d(512, 512, kernel_size=3, padding=1 )\n",
    "        self.pool5  = nn.MaxPool2d(2,2)\n",
    "\n",
    "        # linear layers:   512 x 2 x 2 --> 32768 --> 4096 --> 4096 --> 10\n",
    "        self.linear1 = nn.Linear(2048, 8192)\n",
    "        self.linear2 = nn.Linear(8192,8192)\n",
    "        self.linear3 = nn.Linear(8192, 10)\n",
    "\n",
    "\n",
    "    def forward(self, x):\n",
    "\n",
    "        # block 1:         3 x 32 x 32 --> 64 x 16 x 16\n",
    "        x = self.conv1a(x)\n",
    "        x = torch.relu(x)\n",
    "        x = self.pool1(x)\n",
    "\n",
    "        # block 2:         64 x 16 x 16 --> 128 x 8 x 8\n",
    "        x = self.conv2a(x)\n",
    "        x = torch.relu(x)\n",
    "\n",
    "        x = self.pool2(x)\n",
    "\n",
    "        # block 3:         128 x 8 x 8 --> 256 x 4 x 4\n",
    "        x = self.conv3a(x)\n",
    "        x = torch.relu(x)\n",
    "        x = self.pool3(x)\n",
    "\n",
    "        #block 4:          256 x 4 x 4 --> 512 x 2 x 2\n",
    "        x = self.conv4a(x)\n",
    "        x = torch.relu(x)\n",
    "        x = self.pool4(x)\n",
    "\n",
    "        #block 5:          256 x 4 x 4 --> 256 x 2 x 2\n",
    "        x = self.conv5a(x)\n",
    "        x = torch.relu(x)\n",
    "        x = self.pool5(x)\n",
    "\n",
    "        # linear layers:   512 x 2 x 2 --> 2048 --> 4096 --> 4096 --> 10\n",
    "        x = x.view(-1, 2048)\n",
    "        x = self.linear1(x)\n",
    "        x = torch.relu(x)\n",
    "        x = self.linear2(x)\n",
    "        x = torch.relu(x)\n",
    "        x = self.linear3(x) \n",
    "        \n",
    "        return x"
   ]
  },
  {
   "cell_type": "code",
   "execution_count": 26,
   "id": "e798d1f0",
   "metadata": {},
   "outputs": [],
   "source": [
    "class LeNet5_convnet(nn.Module):\n",
    "\n",
    "    def __init__(self):\n",
    "\n",
    "        super(LeNet5_convnet, self).__init__()\n",
    "\n",
    "        # CL1:   3 x 64 x 64  -->    50 x 64 x 64 \n",
    "        self.conv1 = nn.Conv2d(3,   50,  kernel_size=3,  padding=1 )\n",
    "        \n",
    "        # MP1: 50 x 64 x 64 -->    50 x 32 x 32\n",
    "        self.pool1  = nn.MaxPool2d(2,2)\n",
    "        \n",
    "        # CL2:   50 x 32 x 32  -->    100 x 32 x 32 \n",
    "        self.conv2 = nn.Conv2d(50,  100,  kernel_size=3,  padding=1 )\n",
    "        \n",
    "        # MP2: 100 x 32 x 32 -->    100 x 16 x 16\n",
    "        self.pool2 = nn.MaxPool2d(2,2)\n",
    "        \n",
    "        # LL1:   100 x 7 x 7 = 4900 -->  100 \n",
    "        self.linear1 = nn.Linear(25600, 100)\n",
    "        \n",
    "        # LL2:   100  -->  10 \n",
    "        self.linear2 = nn.Linear(100,10)\n",
    "\n",
    "\n",
    "    def forward(self, x):\n",
    "\n",
    "        # CL1:   28 x 28  -->    50 x 28 x 28 \n",
    "        x = self.conv1(x)\n",
    "        x = F.relu(x)\n",
    "        \n",
    "        # MP1: 50 x 28 x 28 -->    50 x 14 x 14\n",
    "        x = self.pool1(x)\n",
    "        \n",
    "        # CL2:   50 x 14 x 14  -->    100 x 14 x 14\n",
    "        x = self.conv2(x)\n",
    "        x = F.relu(x)\n",
    "        \n",
    "        # MP2: 100 x 14 x 14 -->    100 x 7 x 7\n",
    "        x = self.pool2(x)\n",
    "\n",
    "        # LL1:   100 x 7 x 7 = 4900  -->  100 \n",
    "        x = x.view(-1, 25600)\n",
    "        x = self.linear1(x)\n",
    "        x = F.relu(x)\n",
    "        \n",
    "        # LL2:   4900  -->  10 \n",
    "        x = self.linear2(x)\n",
    "    \n",
    "        return x"
   ]
  },
  {
   "cell_type": "code",
   "execution_count": 27,
   "id": "acd55012",
   "metadata": {},
   "outputs": [
    {
     "name": "stdout",
     "output_type": "stream",
     "text": [
      "tensor(0.4272)\n",
      "tensor(0.2518)\n"
     ]
    }
   ],
   "source": [
    "mean= train_data.mean()\n",
    "print(mean)\n",
    "std= train_data.std()\n",
    "print(std)"
   ]
  },
  {
   "cell_type": "code",
   "execution_count": 28,
   "id": "9d9e02ca",
   "metadata": {},
   "outputs": [
    {
     "name": "stdout",
     "output_type": "stream",
     "text": [
      "Vgg_convnet(\n",
      "  (conv1a): Conv2d(3, 64, kernel_size=(8, 8), stride=(1, 1), padding=(4, 4))\n",
      "  (pool1): MaxPool2d(kernel_size=2, stride=2, padding=0, dilation=1, ceil_mode=False)\n",
      "  (conv2a): Conv2d(64, 128, kernel_size=(4, 4), stride=(1, 1), padding=(2, 2))\n",
      "  (pool2): MaxPool2d(kernel_size=2, stride=2, padding=0, dilation=1, ceil_mode=False)\n",
      "  (conv3a): Conv2d(128, 256, kernel_size=(3, 3), stride=(1, 1), padding=(1, 1))\n",
      "  (pool3): MaxPool2d(kernel_size=2, stride=2, padding=0, dilation=1, ceil_mode=False)\n",
      "  (conv4a): Conv2d(256, 512, kernel_size=(3, 3), stride=(1, 1), padding=(1, 1))\n",
      "  (pool4): MaxPool2d(kernel_size=2, stride=2, padding=0, dilation=1, ceil_mode=False)\n",
      "  (conv5a): Conv2d(512, 512, kernel_size=(3, 3), stride=(1, 1), padding=(1, 1))\n",
      "  (pool5): MaxPool2d(kernel_size=2, stride=2, padding=0, dilation=1, ceil_mode=False)\n",
      "  (linear1): Linear(in_features=2048, out_features=8192, bias=True)\n",
      "  (linear2): Linear(in_features=8192, out_features=8192, bias=True)\n",
      "  (linear3): Linear(in_features=8192, out_features=10, bias=True)\n",
      ")\n",
      "There are 87963082 (87.96 million) parameters in this neural network\n"
     ]
    }
   ],
   "source": [
    "net=Vgg_convnet()\n",
    "\n",
    "print(net)\n",
    "utils.display_num_param(net)"
   ]
  },
  {
   "cell_type": "code",
   "execution_count": 29,
   "id": "5aba36a2",
   "metadata": {},
   "outputs": [],
   "source": [
    "net = net.to(device)\n",
    "mean = mean.to(device)\n",
    "std = std.to(device)"
   ]
  },
  {
   "cell_type": "code",
   "execution_count": 30,
   "id": "f407aebc",
   "metadata": {},
   "outputs": [],
   "source": [
    "criterion = nn.CrossEntropyLoss()\n",
    "my_lr=0.01 \n",
    "bs= 16\n",
    "num_epoch=10"
   ]
  },
  {
   "cell_type": "code",
   "execution_count": 31,
   "id": "78e8fabe",
   "metadata": {},
   "outputs": [],
   "source": [
    "def eval_on_test_set_cnn():\n",
    "\n",
    "    running_error=0\n",
    "    num_batches=0\n",
    "\n",
    "    for i in range(0,100,bs):\n",
    "\n",
    "        minibatch_data =  test_data[i:i+bs]\n",
    "        minibatch_label= test_label[i:i+bs]\n",
    "\n",
    "        minibatch_data=minibatch_data.to(device)\n",
    "        minibatch_label=minibatch_label.to(device)\n",
    "        \n",
    "        inputs = (minibatch_data - mean)/std\n",
    "        scores=net( inputs ) \n",
    "        error = utils.get_error( scores , minibatch_label)\n",
    "        running_error += error.item()\n",
    "\n",
    "        num_batches+=1\n",
    "\n",
    "    total_error = running_error/num_batches\n",
    "    print( 'error rate on test set =', total_error*100 ,'percent')"
   ]
  },
  {
   "cell_type": "code",
   "execution_count": 32,
   "id": "bfff9fb0",
   "metadata": {},
   "outputs": [],
   "source": [
    "start=time.time()\n",
    "\n",
    "for epoch in range(1,num_epoch):\n",
    "    \n",
    "    # divide the learning rate by 2 at epoch 10, 14 and 18\n",
    "    #if epoch % 25 == 0: \n",
    "        #my_lr = my_lr/2\n",
    "    \n",
    "    # create a new optimizer at the beginning of each epoch: give the current learning rate.   \n",
    "    optimizer=torch.optim.SGD( net.parameters() , lr=my_lr )\n",
    "    #optimizer = torch.optim.Adam(net.parameters(), lr=my_lr)\n",
    "    # set the running quatities to zero at the beginning of the epoch\n",
    "    running_loss=0\n",
    "    running_error=0\n",
    "    num_batches=0\n",
    "    \n",
    "    # set the order in which to visit the image from the training set\n",
    "    shuffled_indices=torch.randperm(979)\n",
    " \n",
    "    for count in range(0,979,bs):\n",
    "    \n",
    "        # Set the gradients to zeros\n",
    "        optimizer.zero_grad()\n",
    "        \n",
    "        # create a minibatch       \n",
    "        indices=shuffled_indices[count:count+bs]\n",
    "        minibatch_data =  train_data[indices]\n",
    "        minibatch_label=  train_label[indices]\n",
    "        \n",
    "        # send them to the gpu\n",
    "        minibatch_data=minibatch_data.to(device)\n",
    "        minibatch_label=minibatch_label.to(device)  \n",
    "\n",
    "        inputs = (minibatch_data - mean)/std\n",
    "        inputs.requires_grad_()\n",
    "        scores=net( inputs )\n",
    "        loss =  criterion( scores , minibatch_label)  \n",
    "        loss.backward()\n",
    "\n",
    "        optimizer.step() \n",
    "\n",
    "        # START COMPUTING STATS       \n",
    "        # add the loss of this batch to the running loss\n",
    "        running_loss += loss.detach().item()      \n",
    "        error = utils.get_error( scores.detach() , minibatch_label)\n",
    "        running_error += error.item()\n",
    "        \n",
    "        num_batches+=1        \n",
    "    \n",
    "    # compute stats for the full training set\n",
    "    total_loss = running_loss/num_batches\n",
    "    total_error = running_error/num_batches\n",
    "    elapsed = (time.time()-start)/60\n",
    "    \n",
    "    if epoch%10 == 0:\n",
    "        print('Epoch=',epoch, '\\t time=', elapsed,'min','\\t lr=', my_lr  ,'\\t loss=', total_loss , '\\t error=', total_error*100 ,'percent')\n",
    "        eval_on_test_set_cnn() \n",
    "        print('-----------------------------')"
   ]
  },
  {
   "cell_type": "markdown",
   "id": "f27b4c11",
   "metadata": {},
   "source": [
    "## RNN Dog Breed Classificaiton on Gray Scale Images"
   ]
  },
  {
   "cell_type": "code",
   "execution_count": 33,
   "id": "511febd3",
   "metadata": {},
   "outputs": [],
   "source": [
    "# Hyper-parameters for RNN\n",
    "seq_length = 64\n",
    "input_size = 64\n",
    "hidden_size = 256\n",
    "num_layers = 2\n",
    "num_classes = 10\n",
    "bs = 50\n",
    "learning_rate = 0.01\n",
    "num_epochs=150"
   ]
  },
  {
   "cell_type": "markdown",
   "id": "31c46efc",
   "metadata": {},
   "source": [
    "### Load Gray Scale Dataset"
   ]
  },
  {
   "cell_type": "code",
   "execution_count": 34,
   "id": "6cda164b",
   "metadata": {},
   "outputs": [
    {
     "name": "stdout",
     "output_type": "stream",
     "text": [
      "torch.Size([979, 64, 64])\n",
      "torch.Size([100, 64, 64])\n",
      "torch.Size([979])\n",
      "torch.Size([100])\n"
     ]
    }
   ],
   "source": [
    "train_data_gray=torch.load(dataset_folder+'train_data_gray.pt')\n",
    "print(train_data_gray.size())\n",
    "test_data_gray=torch.load(dataset_folder+'test_data_gray.pt')\n",
    "print(test_data_gray.size())\n",
    "\n",
    "\n",
    "train_label_gray=torch.load(dataset_folder+'train_label_gray.pt')\n",
    "print(train_label_gray.size())\n",
    "test_label_gray=torch.load(dataset_folder+'test_label_gray.pt')\n",
    "print(test_label_gray.size())\n",
    "train_dataset_gray = [{'data': train_data_gray[i], 'label': train_label_gray[i]} for i in range(len(train_data_gray)) ]\n",
    "test_dataset_gray = [{'data': test_data_gray[i], 'label': test_label_gray[i]} for i in range(len(test_data_gray)) ]\n",
    "\n",
    "# Data loader\n",
    "train_loader_gray = torch.utils.data.DataLoader(dataset=train_dataset_gray,\n",
    "                                           batch_size=bs,\n",
    "                                           shuffle=True)\n",
    "test_loader_gray = torch.utils.data.DataLoader(dataset=test_dataset_gray,\n",
    "                                          batch_size=bs,\n",
    "                                          shuffle=False)"
   ]
  },
  {
   "cell_type": "code",
   "execution_count": 35,
   "id": "65f36677",
   "metadata": {},
   "outputs": [],
   "source": [
    "class RNN(nn.Module):\n",
    "    \n",
    "    def __init__(self, input_size, hidden_size, num_layers, num_classes):\n",
    "        super(RNN, self).__init__()\n",
    "        self.hidden_size = hidden_size\n",
    "        self.num_layers = num_layers\n",
    "        self.layer1 = nn.LSTM(input_size, hidden_size, num_layers, batch_first=True)\n",
    "        self.layer2 = nn.Linear(hidden_size, num_classes)\n",
    "\n",
    "    \n",
    "    def forward(self, x):\n",
    "        h0 = torch.zeros(self.num_layers, x.size(0), self.hidden_size).to(device) \n",
    "        c0 = torch.zeros(self.num_layers, x.size(0), self.hidden_size).to(device)\n",
    "        \n",
    "\n",
    "        out, _ = self.layer1(x, (h0, c0))  # out: tensor of shape (batch_size, seq_length, hidden_size)\n",
    "        \n",
    "        out = self.layer2(out[:, -1, :])\n",
    "        return out"
   ]
  },
  {
   "cell_type": "code",
   "execution_count": 36,
   "id": "24ef36a4",
   "metadata": {},
   "outputs": [],
   "source": [
    "def eval_on_test_set_rnn(net):\n",
    "    running_loss = 0\n",
    "    num_batches = 0\n",
    "    num_prediction = 0\n",
    "    num_correct_prediction = 0\n",
    "    \n",
    "    net.eval()\n",
    "    for batch_id, batch in enumerate(test_loader_gray):\n",
    "        \n",
    "        batch_data_num = batch[\"data\"].shape[0]\n",
    "        num_prediction += batch_data_num\n",
    "        \n",
    "        minibatch_data =  batch[\"data\"].to(device)\n",
    "        minibatch_label = batch[\"label\"].to(device)\n",
    "                                  \n",
    "        output  = net( minibatch_data)\n",
    "        predicted_label = torch.argmax(output, dim=1)\n",
    "        num_correct_prediction += torch.sum(minibatch_label == predicted_label).item()\n",
    "                \n",
    "        loss = criterion(  output ,  minibatch_label )    \n",
    "\n",
    "        running_loss += loss.item()\n",
    "        num_batches += 1        \n",
    "    \n",
    "    total_loss = running_loss/num_batches \n",
    "    accuracy = num_correct_prediction / num_prediction\n",
    "    print(f'Test: exp(loss) = {math.exp(total_loss):.4f}\\tTest accuracy = {(accuracy*100):.4f}')"
   ]
  },
  {
   "cell_type": "code",
   "execution_count": 37,
   "id": "6f5c255a",
   "metadata": {},
   "outputs": [],
   "source": [
    "hidden_size = 256\n",
    "num_layers = 2\n",
    "net=RNN(input_size, hidden_size, num_layers, num_classes).to(device)\n",
    "criterion = nn.CrossEntropyLoss()\n",
    "optimizer = torch.optim.Adam(net.parameters(), lr=learning_rate)"
   ]
  },
  {
   "cell_type": "code",
   "execution_count": 40,
   "id": "83c187bf",
   "metadata": {},
   "outputs": [
    {
     "name": "stdout",
     "output_type": "stream",
     "text": [
      "Epoch 0 \ttime = 0.336\tlr = 0.01\n",
      "Train: exp(loss) = 9.9867\tTrain accuracy = 12.0531\n",
      "Test: exp(loss) = 10.0041\tTest accuracy = 11.0000\n",
      "-----------------------------------\n",
      "Epoch 10 \ttime = 3.625\tlr = 0.01\n",
      "Train: exp(loss) = 9.8937\tTrain accuracy = 13.7896\n",
      "Test: exp(loss) = 9.9843\tTest accuracy = 13.0000\n",
      "-----------------------------------\n",
      "Epoch 20 \ttime = 6.924\tlr = 0.01\n",
      "Train: exp(loss) = 9.8201\tTrain accuracy = 14.7089\n",
      "Test: exp(loss) = 9.8895\tTest accuracy = 13.0000\n",
      "-----------------------------------\n",
      "Epoch 30 \ttime = 10.353\tlr = 0.01\n",
      "Train: exp(loss) = 9.6255\tTrain accuracy = 18.0797\n",
      "Test: exp(loss) = 9.5822\tTest accuracy = 15.0000\n",
      "-----------------------------------\n",
      "Epoch 40 \ttime = 13.626\tlr = 0.01\n",
      "Train: exp(loss) = 8.8947\tTrain accuracy = 18.9990\n",
      "Test: exp(loss) = 8.4668\tTest accuracy = 23.0000\n",
      "-----------------------------------\n",
      "Epoch 50 \ttime = 16.918\tlr = 0.01\n",
      "Train: exp(loss) = 8.3997\tTrain accuracy = 21.3483\n",
      "Test: exp(loss) = 8.1001\tTest accuracy = 23.0000\n",
      "-----------------------------------\n",
      "Epoch 60 \ttime = 20.140\tlr = 0.01\n",
      "Train: exp(loss) = 8.0869\tTrain accuracy = 22.0633\n",
      "Test: exp(loss) = 7.8393\tTest accuracy = 27.0000\n",
      "-----------------------------------\n",
      "Epoch 70 \ttime = 23.417\tlr = 0.01\n",
      "Train: exp(loss) = 7.8722\tTrain accuracy = 22.2676\n",
      "Test: exp(loss) = 7.5772\tTest accuracy = 20.0000\n",
      "-----------------------------------\n",
      "Epoch 80 \ttime = 26.707\tlr = 0.01\n",
      "Train: exp(loss) = 7.7582\tTrain accuracy = 21.6547\n",
      "Test: exp(loss) = 7.4407\tTest accuracy = 23.0000\n",
      "-----------------------------------\n",
      "Epoch 90 \ttime = 30.025\tlr = 0.01\n",
      "Train: exp(loss) = 7.6652\tTrain accuracy = 21.5526\n",
      "Test: exp(loss) = 7.3713\tTest accuracy = 21.0000\n",
      "-----------------------------------\n",
      "Epoch 100 \ttime = 33.319\tlr = 0.01\n",
      "Train: exp(loss) = 7.6092\tTrain accuracy = 22.1655\n",
      "Test: exp(loss) = 7.3809\tTest accuracy = 23.0000\n",
      "-----------------------------------\n",
      "Epoch 110 \ttime = 36.586\tlr = 0.01\n",
      "Train: exp(loss) = 7.5862\tTrain accuracy = 21.6547\n",
      "Test: exp(loss) = 7.2514\tTest accuracy = 22.0000\n",
      "-----------------------------------\n",
      "Epoch 120 \ttime = 39.931\tlr = 0.01\n",
      "Train: exp(loss) = 7.5472\tTrain accuracy = 22.8805\n",
      "Test: exp(loss) = 7.2254\tTest accuracy = 23.0000\n",
      "-----------------------------------\n",
      "Epoch 130 \ttime = 43.221\tlr = 0.01\n",
      "Train: exp(loss) = 7.4933\tTrain accuracy = 22.1655\n",
      "Test: exp(loss) = 7.2145\tTest accuracy = 23.0000\n",
      "-----------------------------------\n",
      "Epoch 140 \ttime = 46.500\tlr = 0.01\n",
      "Train: exp(loss) = 7.4812\tTrain accuracy = 22.6762\n",
      "Test: exp(loss) = 7.2513\tTest accuracy = 23.0000\n",
      "-----------------------------------\n"
     ]
    }
   ],
   "source": [
    "start=time.time()\n",
    "for epoch in range(num_epochs):\n",
    "    \n",
    "    # divide the learning rate by 3 except after the first epoch\n",
    "#     if epoch >= 2:\n",
    "#         learning_rate = learning_rate / 3\n",
    "    \n",
    "    # create a new optimizer at the beginning of each epoch: give the current learning rate.   \n",
    "    optimizer=torch.optim.SGD( net.parameters() , lr=learning_rate )\n",
    "\n",
    "    # set the running quatities to zero at the beginning of the epoch\n",
    "    running_loss=0\n",
    "    num_batches=0    \n",
    "    net.train()\n",
    "    num_prediction = 0\n",
    "    num_correct_prediction = 0\n",
    "    for batch_id, batch in enumerate(train_loader_gray):\n",
    "        \n",
    "        # Set the gradients to zeros\n",
    "        optimizer.zero_grad()\n",
    "        batch_data_num = batch[\"data\"].shape[0]\n",
    "        num_prediction += batch_data_num\n",
    "        \n",
    "        # create a minibatch\n",
    "        # send them to the gpu\n",
    "        minibatch_data =  batch[\"data\"].to(device)\n",
    "        minibatch_label = batch[\"label\"].to(device)\n",
    "        \n",
    "        # forward the minibatch through the net        \n",
    "        output  = net( minibatch_data)\n",
    "        predicted_label = torch.argmax(output, dim = 1)\n",
    "        num_correct_prediction += torch.sum(minibatch_label == predicted_label).item()\n",
    "        \n",
    "        # Compute the average of the losses of the data points in this huge batch\n",
    "        loss = criterion(  output ,  minibatch_label )\n",
    "        loss.backward()\n",
    "\n",
    "        # do one step of stochastic gradient descent: R=R-lr(dL/dR), V=V-lr(dL/dV), ...\n",
    "        utils.normalize_gradient(net)\n",
    "        optimizer.step()\n",
    "        \n",
    "        # update the running loss  \n",
    "        running_loss += loss.item()\n",
    "        num_batches += 1\n",
    "        \n",
    "    accuracy = num_correct_prediction / num_prediction\n",
    "    # compute stats for the full training set\n",
    "    total_loss = running_loss / num_batches\n",
    "    elapsed = time.time() - start\n",
    "    \n",
    "    if epoch%10 == 0:\n",
    "        print(f'Epoch {epoch} \\ttime = {elapsed:.3f}\\tlr = {learning_rate}\\nTrain: exp(loss) = {math.exp(total_loss):.4f}\\tTrain accuracy = {(accuracy*100):.4f}')\n",
    "        eval_on_test_set_rnn(net)\n",
    "        print(f'-----------------------------------')"
   ]
  },
  {
   "cell_type": "code",
   "execution_count": null,
   "id": "86b05c42",
   "metadata": {},
   "outputs": [],
   "source": []
  }
 ],
 "metadata": {
  "kernelspec": {
   "display_name": "Python 3 (ipykernel)",
   "language": "python",
   "name": "python3"
  },
  "language_info": {
   "codemirror_mode": {
    "name": "ipython",
    "version": 3
   },
   "file_extension": ".py",
   "mimetype": "text/x-python",
   "name": "python",
   "nbconvert_exporter": "python",
   "pygments_lexer": "ipython3",
   "version": "3.9.6"
  }
 },
 "nbformat": 4,
 "nbformat_minor": 5
}
