{
 "cells": [
  {
   "cell_type": "code",
   "execution_count": 1,
   "id": "7e4df1d7",
   "metadata": {},
   "outputs": [],
   "source": [
    "import torch\n",
    "import torch.nn as nn\n",
    "import torch.nn.functional as F\n",
    "import torch.optim as optim\n",
    "from random import randint\n",
    "import time, os\n",
    "import cv2\n",
    "import utils\n",
    "import matplotlib.pyplot as plt\n",
    "import numpy as np\n",
    "from PIL import Image\n",
    "from torchvision.transforms import transforms"
   ]
  },
  {
   "cell_type": "code",
   "execution_count": 2,
   "id": "6295c485",
   "metadata": {},
   "outputs": [],
   "source": [
    "dog_dict = {\n",
    "    'affenpinscher':0,\n",
    "    'beagle':1,\n",
    "    'boxer':2,\n",
    "    'chihuahua':3,\n",
    "    'frenchbulldog':4,\n",
    "    'goldenretriever':5,\n",
    "    'rottweiler':6,\n",
    "    'schnauzer':7,\n",
    "    'sheepdog':8,\n",
    "    'spaniel':9\n",
    "}"
   ]
  },
  {
   "cell_type": "code",
   "execution_count": 3,
   "id": "b86828f1",
   "metadata": {},
   "outputs": [],
   "source": [
    "train_img_path = '../dog_dataset/train_64x64'\n",
    "test_img_path = '../dog_dataset/test_64x64'"
   ]
  },
  {
   "cell_type": "code",
   "execution_count": 4,
   "id": "fc253088",
   "metadata": {},
   "outputs": [],
   "source": [
    "# # create train data and train label\n",
    "# train_data = torch.Tensor([])\n",
    "# train_label = []\n",
    "# for img in os.listdir(train_img_path):\n",
    "#     pic_data = []\n",
    "#     breed = img.split('_')[0]\n",
    "#     pic_label = dog_dict[breed]\n",
    "#     train_label.append(pic_label)\n",
    "#     pic = Image.open(os.path.join(train_img_path,img)) \n",
    "#     resize = transforms.Resize([64,64])\n",
    "#     pic = resize(pic)\n",
    "#     trans_pic = transforms.ToTensor()(pic)\n",
    "#     trans_pic = torch.unsqueeze(trans_pic, dim=0)\n",
    "#     train_data = torch.cat((train_data, trans_pic),0)"
   ]
  },
  {
   "cell_type": "code",
   "execution_count": 5,
   "id": "b34de63a",
   "metadata": {},
   "outputs": [],
   "source": [
    "# rgb to gray\n",
    "rgb_to_gray = transforms.Compose([transforms.Grayscale(num_output_channels=1),\n",
    "                                    transforms.ToTensor()])\n",
    "train_data = torch.Tensor([])\n",
    "train_label = []\n",
    "for img in os.listdir(train_img_path):\n",
    "    pic_data = []\n",
    "    breed = img.split('_')[0]\n",
    "    pic_label = dog_dict[breed]\n",
    "    train_label.append(pic_label)\n",
    "    pic = Image.open(os.path.join(train_img_path,img))\n",
    "    pic = rgb_to_gray(pic)\n",
    "    resize = transforms.Resize([64,64])\n",
    "    pic = resize(pic)\n",
    "#     trans_pic = transforms.ToTensor()(pic)\n",
    "#     trans_pic = rgb_to_gray(pic)\n",
    "#     trans_pic = torch.unsqueeze(pic, dim=0)\n",
    "    train_data = torch.cat((train_data, pic),0)"
   ]
  },
  {
   "cell_type": "code",
   "execution_count": 6,
   "id": "0de70d73",
   "metadata": {},
   "outputs": [],
   "source": [
    "train_label = torch.tensor(train_label)"
   ]
  },
  {
   "cell_type": "code",
   "execution_count": 12,
   "id": "9821ec51",
   "metadata": {},
   "outputs": [
    {
     "data": {
      "image/png": "[encoded data removed]",
      "text/plain": [
       "<Figure size 432x288 with 1 Axes>"
      ]
     },
     "metadata": {
      "needs_background": "light"
     },
     "output_type": "display_data"
    },
    {
     "data": {
      "text/plain": [
       "tensor(3)"
      ]
     },
     "execution_count": 12,
     "metadata": {},
     "output_type": "execute_result"
    }
   ],
   "source": [
    "utils.show(train_data[19])\n",
    "train_label[19]"
   ]
  },
  {
   "cell_type": "code",
   "execution_count": 8,
   "id": "986b92e1",
   "metadata": {},
   "outputs": [],
   "source": [
    "# save train data and label to .pt file\n",
    "torch.save(train_data, '../dog_dataset/train_data_gray.pt')\n",
    "torch.save(train_label, '../dog_dataset/train_label_gray.pt')"
   ]
  },
  {
   "cell_type": "code",
   "execution_count": 9,
   "id": "28bffa8c",
   "metadata": {},
   "outputs": [],
   "source": [
    "# # create test data and test label\n",
    "# test_data = torch.Tensor([])\n",
    "# test_label = []\n",
    "# for img in os.listdir(test_img_path):\n",
    "#     pic_data = []\n",
    "#     breed = img.split('_')[0]\n",
    "#     pic_label = dog_dict[breed]\n",
    "#     test_label.append(pic_label)\n",
    "#     pic = Image.open(os.path.join(test_img_path,img)) \n",
    "#     resize = transforms.Resize([64,64])\n",
    "#     pic = resize(pic)\n",
    "#     trans_pic = transforms.ToTensor()(pic)\n",
    "#     trans_pic = torch.unsqueeze(trans_pic, dim=0)\n",
    "#     test_data = torch.cat((test_data, trans_pic),0)"
   ]
  },
  {
   "cell_type": "code",
   "execution_count": 10,
   "id": "8125f165",
   "metadata": {},
   "outputs": [],
   "source": [
    "# rgb to gray\n",
    "rgb_to_gray = transforms.Compose([transforms.Grayscale(num_output_channels=1),\n",
    "                                    transforms.ToTensor()])\n",
    "test_data = torch.Tensor([])\n",
    "test_label = []\n",
    "for img in os.listdir(test_img_path):\n",
    "    pic_data = []\n",
    "    breed = img.split('_')[0]\n",
    "    pic_label = dog_dict[breed]\n",
    "    test_label.append(pic_label)\n",
    "    pic = Image.open(os.path.join(test_img_path,img))\n",
    "    pic = rgb_to_gray(pic)\n",
    "    resize = transforms.Resize([64,64])\n",
    "    pic = resize(pic)\n",
    "#     trans_pic = transforms.ToTensor()(pic)\n",
    "#     trans_pic = rgb_to_gray(pic)\n",
    "#     trans_pic = torch.unsqueeze(pic, dim=0)\n",
    "    test_data = torch.cat((test_data, pic),0)"
   ]
  },
  {
   "cell_type": "code",
   "execution_count": 11,
   "id": "8985b33d",
   "metadata": {},
   "outputs": [],
   "source": [
    "test_label = torch.tensor(test_label)"
   ]
  },
  {
   "cell_type": "code",
   "execution_count": 13,
   "id": "6941e69e",
   "metadata": {},
   "outputs": [
    {
     "data": {
      "image/png": "[encoded data removed]",
      "text/plain": [
       "<Figure size 432x288 with 1 Axes>"
      ]
     },
     "metadata": {
      "needs_background": "light"
     },
     "output_type": "display_data"
    },
    {
     "data": {
      "text/plain": [
       "tensor(4)"
      ]
     },
     "execution_count": 13,
     "metadata": {},
     "output_type": "execute_result"
    }
   ],
   "source": [
    "utils.show(test_data[19])\n",
    "test_label[19]"
   ]
  },
  {
   "cell_type": "code",
   "execution_count": 14,
   "id": "521dd808",
   "metadata": {},
   "outputs": [],
   "source": [
    "# save test data and label to .pt file\n",
    "torch.save(test_data, '../dog_dataset/test_data_gray.pt')\n",
    "torch.save(test_label, '../dog_dataset/test_label_gray.pt')"
   ]
  },
  {
   "cell_type": "code",
   "execution_count": 15,
   "id": "4fd905e8",
   "metadata": {},
   "outputs": [],
   "source": [
    "train_data = torch.load('../dog_dataset/train_data_gray.pt')\n",
    "train_label = torch.load('../dog_dataset/train_label_gray.pt')"
   ]
  },
  {
   "cell_type": "code",
   "execution_count": 16,
   "id": "7e4ae73f",
   "metadata": {},
   "outputs": [
    {
     "data": {
      "image/png": "[encoded data removed]",
      "text/plain": [
       "<Figure size 432x288 with 1 Axes>"
      ]
     },
     "metadata": {
      "needs_background": "light"
     },
     "output_type": "display_data"
    },
    {
     "data": {
      "text/plain": [
       "tensor(3)"
      ]
     },
     "execution_count": 16,
     "metadata": {},
     "output_type": "execute_result"
    }
   ],
   "source": [
    "utils.show(train_data[19])\n",
    "train_label[19]"
   ]
  },
  {
   "cell_type": "code",
   "execution_count": 17,
   "id": "f1843c7f",
   "metadata": {},
   "outputs": [],
   "source": [
    "# test_data = torch.load('../dataset_v1.1/test.pt')\n",
    "# test_label = torch.load('../dataset_v1.1/test_label.pt')"
   ]
  },
  {
   "cell_type": "code",
   "execution_count": 18,
   "id": "a9a2e2d2",
   "metadata": {},
   "outputs": [],
   "source": [
    "test_data = torch.load('../dog_dataset/test_data_gray.pt')\n",
    "test_label = torch.load('../dog_dataset/test_label_gray.pt')"
   ]
  },
  {
   "cell_type": "code",
   "execution_count": 19,
   "id": "08cbe98d",
   "metadata": {},
   "outputs": [
    {
     "data": {
      "image/png": "[encoded data removed]",
      "text/plain": [
       "<Figure size 432x288 with 1 Axes>"
      ]
     },
     "metadata": {
      "needs_background": "light"
     },
     "output_type": "display_data"
    },
    {
     "data": {
      "text/plain": [
       "tensor(4)"
      ]
     },
     "execution_count": 19,
     "metadata": {},
     "output_type": "execute_result"
    }
   ],
   "source": [
    "utils.show(test_data[3])\n",
    "test_label[3]"
   ]
  },
  {
   "cell_type": "code",
   "execution_count": null,
   "id": "9a943d81",
   "metadata": {},
   "outputs": [],
   "source": []
  },
  {
   "cell_type": "code",
   "execution_count": null,
   "id": "a51d839f",
   "metadata": {},
   "outputs": [],
   "source": []
  }
 ],
 "metadata": {
  "kernelspec": {
   "display_name": "Python 3 (ipykernel)",
   "language": "python",
   "name": "python3"
  },
  "language_info": {
   "codemirror_mode": {
    "name": "ipython",
    "version": 3
   },
   "file_extension": ".py",
   "mimetype": "text/x-python",
   "name": "python",
   "nbconvert_exporter": "python",
   "pygments_lexer": "ipython3",
   "version": "3.7.10"
  }
 },
 "nbformat": 4,
 "nbformat_minor": 5
}
