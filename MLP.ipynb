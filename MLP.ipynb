{
 "cells": [
  {
   "cell_type": "code",
   "execution_count": 1,
   "id": "b95c3aa4",
   "metadata": {},
   "outputs": [],
   "source": [
    "import torch\n",
    "import torch.nn as nn\n",
    "import torch.optim as optim\n",
    "from random import randint\n",
    "import time\n",
    "import utils\n",
    "import os\n",
    "import pandas as pd"
   ]
  },
  {
   "cell_type": "markdown",
   "id": "3e1a6dfd",
   "metadata": {},
   "source": [
    "## Load Data"
   ]
  },
  {
   "cell_type": "code",
   "execution_count": 2,
   "id": "430d236d",
   "metadata": {},
   "outputs": [
    {
     "data": {
      "text/plain": [
       "(980, 251)"
      ]
     },
     "execution_count": 2,
     "metadata": {},
     "output_type": "execute_result"
    }
   ],
   "source": [
    "dataset_folder='../dataset_v1.1/'\n",
    "train_folder = '../dataset_v1.1/train/'\n",
    "test_folder = '../dataset_v1.1/test/'\n",
    "\n",
    "train_size = len(os.listdir(train_folder))\n",
    "test_size = len(os.listdir(test_folder))\n",
    "#os.remove('.DS_Store')\n",
    "train_size,test_size\n",
    "#os.listdir(test_folder)"
   ]
  },
  {
   "cell_type": "code",
   "execution_count": 3,
   "id": "1bc6f1e1",
   "metadata": {},
   "outputs": [
    {
     "data": {
      "text/html": [
       "<div>\n",
       "<style scoped>\n",
       "    .dataframe tbody tr th:only-of-type {\n",
       "        vertical-align: middle;\n",
       "    }\n",
       "\n",
       "    .dataframe tbody tr th {\n",
       "        vertical-align: top;\n",
       "    }\n",
       "\n",
       "    .dataframe thead th {\n",
       "        text-align: right;\n",
       "    }\n",
       "</style>\n",
       "<table border=\"1\" class=\"dataframe\">\n",
       "  <thead>\n",
       "    <tr style=\"text-align: right;\">\n",
       "      <th></th>\n",
       "      <th>filename</th>\n",
       "      <th>breed</th>\n",
       "      <th>breed fac</th>\n",
       "    </tr>\n",
       "  </thead>\n",
       "  <tbody>\n",
       "    <tr>\n",
       "      <th>0</th>\n",
       "      <td>affenpinscher_1.jpg</td>\n",
       "      <td>affenpinscher</td>\n",
       "      <td>0</td>\n",
       "    </tr>\n",
       "    <tr>\n",
       "      <th>1</th>\n",
       "      <td>affenpinscher_10.jpg</td>\n",
       "      <td>affenpinscher</td>\n",
       "      <td>0</td>\n",
       "    </tr>\n",
       "    <tr>\n",
       "      <th>2</th>\n",
       "      <td>affenpinscher_100.jpg</td>\n",
       "      <td>affenpinscher</td>\n",
       "      <td>0</td>\n",
       "    </tr>\n",
       "    <tr>\n",
       "      <th>3</th>\n",
       "      <td>affenpinscher_101.jpg</td>\n",
       "      <td>affenpinscher</td>\n",
       "      <td>0</td>\n",
       "    </tr>\n",
       "    <tr>\n",
       "      <th>4</th>\n",
       "      <td>affenpinscher_102.jpg</td>\n",
       "      <td>affenpinscher</td>\n",
       "      <td>0</td>\n",
       "    </tr>\n",
       "  </tbody>\n",
       "</table>\n",
       "</div>"
      ],
      "text/plain": [
       "                filename          breed  breed fac\n",
       "0    affenpinscher_1.jpg  affenpinscher          0\n",
       "1   affenpinscher_10.jpg  affenpinscher          0\n",
       "2  affenpinscher_100.jpg  affenpinscher          0\n",
       "3  affenpinscher_101.jpg  affenpinscher          0\n",
       "4  affenpinscher_102.jpg  affenpinscher          0"
      ]
     },
     "execution_count": 3,
     "metadata": {},
     "output_type": "execute_result"
    }
   ],
   "source": [
    "label_df = pd.read_csv(dataset_folder+'label.csv')\n",
    "label_df.head()"
   ]
  },
  {
   "cell_type": "code",
   "execution_count": 4,
   "id": "4005150d",
   "metadata": {},
   "outputs": [
    {
     "name": "stdout",
     "output_type": "stream",
     "text": [
      "torch.Size([980, 3, 128, 128])\n"
     ]
    }
   ],
   "source": [
    "train_data=torch.load(dataset_folder+'train.pt')\n",
    "#print(train_image[0])\n",
    "print(train_data.size())"
   ]
  },
  {
   "cell_type": "code",
   "execution_count": 5,
   "id": "ff33cfe2",
   "metadata": {},
   "outputs": [
    {
     "name": "stdout",
     "output_type": "stream",
     "text": [
      "torch.Size([250, 3, 128, 128])\n"
     ]
    }
   ],
   "source": [
    "test_data=torch.load(dataset_folder+'test.pt')\n",
    "#print(train_image)\n",
    "print(test_data.size())"
   ]
  },
  {
   "cell_type": "code",
   "execution_count": 6,
   "id": "4de7c42e",
   "metadata": {},
   "outputs": [],
   "source": [
    "train_label=torch.load(dataset_folder+'train_label.pt')\n",
    "#print(train_label)"
   ]
  },
  {
   "cell_type": "code",
   "execution_count": 7,
   "id": "bb1300d3",
   "metadata": {},
   "outputs": [],
   "source": [
    "test_label=torch.load(dataset_folder+'test_label.pt')\n",
    "#print(test_label)"
   ]
  },
  {
   "cell_type": "markdown",
   "id": "c7f48f3c",
   "metadata": {},
   "source": [
    "## 3 Layers MLP"
   ]
  },
  {
   "cell_type": "code",
   "execution_count": 8,
   "id": "47780b7e",
   "metadata": {},
   "outputs": [],
   "source": [
    "class three_layer_net(nn.Module):\n",
    "\n",
    "    def __init__(self, input_size, hidden_size1, hidden_size2, hidden_size3,output_size):\n",
    "        super(three_layer_net , self).__init__()\n",
    "\n",
    "        self.layer1 = nn.Linear(  input_size   , hidden_size1  , bias=False  )\n",
    "        self.layer2 = nn.Linear(  hidden_size1 , hidden_size2  , bias=False  )\n",
    "        self.layer3 = nn.Linear(  hidden_size2 , hidden_size3  , bias=False  )\n",
    "        self.layer4 = nn.Linear(  hidden_size3 , output_size   , bias=False  )        \n",
    "        \n",
    "    def forward(self, x):\n",
    "        \n",
    "        y       = self.layer1(x)\n",
    "        y_hat   = torch.relu(y)\n",
    "        z       = self.layer2(y_hat)\n",
    "        z_hat   = torch.relu(z)\n",
    "        a       = self.layer3(z_hat)\n",
    "        a_hat   = torch.relu(a)\n",
    "        scores  = self.layer4(a_hat)\n",
    "        \n",
    "        return scores"
   ]
  },
  {
   "cell_type": "markdown",
   "id": "8e29be27",
   "metadata": {},
   "source": [
    "### Build the net with the following size:\n",
    "* input size = 16384*3=49152\n",
    "* hidden size 1 = 500\n",
    "* hidden size 2 = 500\n",
    "* output size = 12\n",
    "### How many parameters in total? (the one layer net had 30,000 parameters)"
   ]
  },
  {
   "cell_type": "code",
   "execution_count": 9,
   "id": "491ee1e7",
   "metadata": {},
   "outputs": [
    {
     "name": "stdout",
     "output_type": "stream",
     "text": [
      "three_layer_net(\n",
      "  (layer1): Linear(in_features=49152, out_features=500, bias=False)\n",
      "  (layer2): Linear(in_features=500, out_features=500, bias=False)\n",
      "  (layer3): Linear(in_features=500, out_features=500, bias=False)\n",
      "  (layer4): Linear(in_features=500, out_features=12, bias=False)\n",
      ")\n"
     ]
    }
   ],
   "source": [
    "net=three_layer_net(49152,500,500,500,12)\n",
    "print(net)\n",
    "criterion = nn.CrossEntropyLoss()\n",
    "optimizer=torch.optim.SGD( net.parameters() , lr=0.01 )\n",
    "bs= 10"
   ]
  },
  {
   "cell_type": "code",
   "execution_count": 10,
   "id": "487c5f9e",
   "metadata": {},
   "outputs": [],
   "source": [
    "def eval_on_test_set():\n",
    "\n",
    "    running_error=0\n",
    "    num_batches=0\n",
    "\n",
    "\n",
    "    for i in range(0,249,bs):\n",
    "\n",
    "        # extract the minibatch\n",
    "        minibatch_data =  test_data[i:i+bs]\n",
    "        minibatch_label= test_label[i:i+bs]\n",
    "        # send them to the gpu\n",
    "        #minibatch_data=minibatch_data.to(device)\n",
    "        #minibatch_label=minibatch_label.to(device)\n",
    "\n",
    "        # reshape the minibatch\n",
    "        inputs = minibatch_data.view(bs,49152)\n",
    "\n",
    "        # feed it to the network\n",
    "        scores=net( inputs ) \n",
    "\n",
    "        # compute the error made on this batch\n",
    "        error = utils.get_error( scores , minibatch_label)\n",
    "\n",
    "        # add it to the running error\n",
    "        running_error += error.item()\n",
    "\n",
    "        num_batches+=1\n",
    "\n",
    "\n",
    "    # compute error rate on the full test set\n",
    "    total_error = running_error/num_batches\n",
    "\n",
    "    print( 'error rate on test set =', total_error*100 ,'percent')"
   ]
  },
  {
   "cell_type": "code",
   "execution_count": 11,
   "id": "edfbee25",
   "metadata": {},
   "outputs": [
    {
     "name": "stdout",
     "output_type": "stream",
     "text": [
      "epoch= 0 \t time= 8.765172004699707 \t loss= 2.469693407720449 \t error= 87.14285632785486 percent\n",
      "error rate on test set = 83.20000004768372 percent\n",
      " \n",
      "epoch= 1 \t time= 18.08050775527954 \t loss= 2.3839030679391353 \t error= 83.16326457626965 percent\n",
      "error rate on test set = 86.0 percent\n",
      " \n",
      "epoch= 2 \t time= 27.267404079437256 \t loss= 2.3066590318874436 \t error= 83.0612241005411 percent\n",
      "error rate on test set = 82.39999961853027 percent\n",
      " \n",
      "epoch= 3 \t time= 36.39789795875549 \t loss= 2.2639428729913673 \t error= 78.46938766995255 percent\n",
      "error rate on test set = 81.60000014305115 percent\n",
      " \n",
      "epoch= 4 \t time= 45.72426986694336 \t loss= 2.224763716970171 \t error= 77.04081608324634 percent\n",
      "error rate on test set = 78.3999993801117 percent\n",
      " \n",
      "epoch= 5 \t time= 54.96675086021423 \t loss= 2.1781095582611707 \t error= 75.81632617785006 percent\n",
      "error rate on test set = 78.79999995231628 percent\n",
      " \n",
      "epoch= 6 \t time= 64.37316298484802 \t loss= 2.133484975415833 \t error= 73.87755111772188 percent\n",
      "error rate on test set = 75.2000002861023 percent\n",
      " \n",
      "epoch= 7 \t time= 73.6237268447876 \t loss= 2.088171218122755 \t error= 71.53061251251064 percent\n",
      "error rate on test set = 76.00000023841858 percent\n",
      " \n",
      "epoch= 8 \t time= 82.7910008430481 \t loss= 2.0397149032476 \t error= 71.63265335316561 percent\n",
      "error rate on test set = 75.19999980926514 percent\n",
      " \n",
      "epoch= 9 \t time= 91.93857884407043 \t loss= 2.0173666805637125 \t error= 69.285714383028 percent\n",
      "error rate on test set = 75.99999976158142 percent\n",
      " \n"
     ]
    }
   ],
   "source": [
    "start=time.time()\n",
    "\n",
    "for epoch in range(10):\n",
    "    \n",
    "    running_loss=0\n",
    "    running_error=0\n",
    "    num_batches=0\n",
    "    \n",
    "    shuffled_indices=torch.randperm(980)\n",
    " \n",
    "    for count in range(0,980,bs):\n",
    "    \n",
    "        # Set the gradients to zeros\n",
    "        optimizer.zero_grad()\n",
    "        \n",
    "        # create a minibatch       \n",
    "        indices=shuffled_indices[count:count+bs]\n",
    "        minibatch_data =  train_data[indices]\n",
    "        minibatch_label=  train_label[indices]\n",
    "        \n",
    "        # send them to the gpu\n",
    "        #minibatch_data=minibatch_data.to(device)\n",
    "        #minibatch_label=minibatch_label.to(device)\n",
    "        \n",
    "        # reshape the minibatch\n",
    "        inputs = minibatch_data.view(bs,49152)\n",
    "\n",
    "        # tell Pytorch to start tracking all operations that will be done on \"inputs\"\n",
    "        inputs.requires_grad_()\n",
    "\n",
    "        # forward the minibatch through the net \n",
    "        scores=net( inputs ) \n",
    "\n",
    "        # Compute the average of the losses of the data points in the minibatch\n",
    "        loss =  criterion( scores , minibatch_label) \n",
    "        \n",
    "        # backward pass to compute dL/dU, dL/dV and dL/dW   \n",
    "        loss.backward()\n",
    "\n",
    "        # do one step of stochastic gradient descent: U=U-lr(dL/dU), V=V-lr(dL/dU), ...\n",
    "        optimizer.step()\n",
    "        \n",
    "\n",
    "        # START COMPUTING STATS\n",
    "        \n",
    "        # add the loss of this batch to the running loss\n",
    "        running_loss += loss.detach().item()\n",
    "        \n",
    "        # compute the error made on this batch and add it to the running error       \n",
    "        error = utils.get_error( scores.detach() , minibatch_label)\n",
    "        running_error += error.item()\n",
    "        \n",
    "        num_batches+=1        \n",
    "    \n",
    "    \n",
    "    # compute stats for the full training set\n",
    "    total_loss = running_loss/num_batches\n",
    "    total_error = running_error/num_batches\n",
    "    elapsed = time.time()-start\n",
    "    \n",
    "#if epoch%2 == 0:\n",
    "    print('epoch=',epoch, '\\t time=', elapsed, '\\t loss=', total_loss , '\\t error=', total_error*100 ,'percent')\n",
    "    eval_on_test_set() \n",
    "    print(' ')"
   ]
  },
  {
   "cell_type": "code",
   "execution_count": null,
   "id": "2cf54f71",
   "metadata": {},
   "outputs": [],
   "source": []
  }
 ],
 "metadata": {
  "kernelspec": {
   "display_name": "Python 3 (ipykernel)",
   "language": "python",
   "name": "python3"
  },
  "language_info": {
   "codemirror_mode": {
    "name": "ipython",
    "version": 3
   },
   "file_extension": ".py",
   "mimetype": "text/x-python",
   "name": "python",
   "nbconvert_exporter": "python",
   "pygments_lexer": "ipython3",
   "version": "3.7.10"
  }
 },
 "nbformat": 4,
 "nbformat_minor": 5
}
