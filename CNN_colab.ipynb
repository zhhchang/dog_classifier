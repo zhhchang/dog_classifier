{
  "nbformat": 4,
  "nbformat_minor": 0,
  "metadata": {
    "colab": {
      "name": "CNN-colab.ipynb",
      "provenance": [],
      "collapsed_sections": []
    },
    "kernelspec": {
      "name": "python3",
      "display_name": "Python 3"
    },
    "language_info": {
      "name": "python"
    },
    "accelerator": "GPU"
  },
  "cells": [
    {
      "cell_type": "code",
      "metadata": {
        "colab": {
          "base_uri": "https://localhost:8080/"
        },
        "id": "7detQ6OUwSCx",
        "outputId": "e808adc0-6546-48c7-d46c-9c51c166ac24"
      },
      "source": [
        "import sys, os\n",
        "if 'google.colab' in sys.modules:\n",
        "    # mount google drive\n",
        "    from google.colab import drive\n",
        "    drive.mount('/content/gdrive')\n",
        "    file_name = 'dataset_v1.1.zip'\n",
        "    path_to_file = '/content/gdrive/MyDrive/Processed Data/dataset/dataset_v1.1/'\n",
        "    print(path_to_file)\n",
        "\n",
        "py_file_location = \"/content/gdrive/My Drive/Colab Notebooks\"\n",
        "sys.path.append(os.path.abspath(py_file_location))"
      ],
      "execution_count": 1,
      "outputs": [
        {
          "output_type": "stream",
          "name": "stdout",
          "text": [
            "Drive already mounted at /content/gdrive; to attempt to forcibly remount, call drive.mount(\"/content/gdrive\", force_remount=True).\n",
            "/content/gdrive/MyDrive/Processed Data/dataset/dataset_v1.1/\n"
          ]
        }
      ]
    },
    {
      "cell_type": "code",
      "metadata": {
        "id": "Fe0pvmUVtfFd"
      },
      "source": [
        "import torch\n",
        "import torch.nn as nn\n",
        "import torch.optim as optim\n",
        "from random import randint\n",
        "import time\n",
        "import utils\n",
        "import os\n",
        "import pandas as pd"
      ],
      "execution_count": 2,
      "outputs": []
    },
    {
      "cell_type": "code",
      "metadata": {
        "colab": {
          "base_uri": "https://localhost:8080/"
        },
        "id": "-kw0q0xjFEyD",
        "outputId": "23c70ac2-6416-4da8-8d1c-140f6ded8c00"
      },
      "source": [
        "device= torch.device(\"cuda\")\n",
        "#device= torch.device(\"cpu\")\n",
        "print(device)"
      ],
      "execution_count": 3,
      "outputs": [
        {
          "output_type": "stream",
          "name": "stdout",
          "text": [
            "cuda\n"
          ]
        }
      ]
    },
    {
      "cell_type": "code",
      "metadata": {
        "id": "PwTkTV0Twjc-"
      },
      "source": [
        "dataset_folder = path_to_file\n",
        "#train_folder = f'{path_to_file}/train/'\n",
        "#test_folder = f'{path_to_file}/test/'\n",
        "\n",
        "##train_size = len(os.listdir(train_folder))\n",
        "#test_size = len(os.listdir(test_folder))\n",
        "#os.remove('.DS_Store')\n",
        "#train_size,test_size\n",
        "#os.listdir(test_folder)"
      ],
      "execution_count": 4,
      "outputs": []
    },
    {
      "cell_type": "code",
      "metadata": {
        "id": "AbnjSf1K2WJV",
        "colab": {
          "base_uri": "https://localhost:8080/"
        },
        "outputId": "65796ad8-7588-4e27-db18-ebc619958d5a"
      },
      "source": [
        "#path_to_file = '/content/gdrive/My Drive/CS5242 Project/Processed Data/dataset/dataset_v1.1'\n",
        "train_data=torch.load(path_to_file+'train.pt')\n",
        "#train_data=torch.load(dataset_folder+'/train.pt')\n",
        "#print(train_image[0])\n",
        "print(train_data.size())\n",
        "\n",
        "test_data=torch.load(path_to_file+'test.pt')\n",
        "#print(train_image)\n",
        "print(test_data.size())\n",
        "\n",
        "train_label=torch.load(path_to_file+'train_label.pt')\n",
        "#print(train_label)\n",
        "\n",
        "test_label=torch.load(path_to_file+'test_label.pt')\n",
        "#print(test_label)"
      ],
      "execution_count": 5,
      "outputs": [
        {
          "output_type": "stream",
          "name": "stdout",
          "text": [
            "torch.Size([980, 3, 128, 128])\n",
            "torch.Size([250, 3, 128, 128])\n"
          ]
        }
      ]
    },
    {
      "cell_type": "code",
      "metadata": {
        "id": "Ia1ZXd5M75aq"
      },
      "source": [
        "class VGG_convnet(nn.Module):\n",
        "\n",
        "    def __init__(self):\n",
        "\n",
        "        super(VGG_convnet, self).__init__()\n",
        "\n",
        "        # block 1:         3 x 128 x 128 --> 64 x 32 x 32        \n",
        "        self.conv1a = nn.Conv2d(3,   64,  kernel_size=32, padding=16 )\n",
        "        self.conv1b = nn.Conv2d(64,  64,  kernel_size=32, padding=16 )\n",
        "        self.pool1  = nn.MaxPool2d(4,4)\n",
        "\n",
        "        # block 2:         64 x 32 x 32 --> 128 x 16 x 16\n",
        "        self.conv2a = nn.Conv2d(64,  128, kernel_size=8, padding=4 )\n",
        "        self.conv2b = nn.Conv2d(128, 128, kernel_size=8, padding=4 )\n",
        "        self.pool2  = nn.MaxPool2d(2,2)\n",
        "\n",
        "        # block 3:         128 x 16 x 16 --> 256 x 8 x 8        \n",
        "        self.conv3a = nn.Conv2d(128, 256, kernel_size=3, padding=1 )\n",
        "        self.conv3b = nn.Conv2d(256, 256, kernel_size=3, padding=1 )\n",
        "        self.pool3  = nn.MaxPool2d(2,2)\n",
        "        \n",
        "        #block 4:          256 x 8 x 8 --> 512 x 4 x 4\n",
        "        self.conv4a = nn.Conv2d(256, 512, kernel_size=3, padding=1 )\n",
        "        self.pool4  = nn.MaxPool2d(2,2)\n",
        "\n",
        "        # linear layers:   512 x 4 x 4 --> 2048 --> 4096 --> 4096 --> 10\n",
        "        self.linear1 = nn.Linear(8192, 16384)\n",
        "        self.linear2 = nn.Linear(16384,16384)\n",
        "        self.linear3 = nn.Linear(16384, 12)\n",
        "\n",
        "\n",
        "    def forward(self, x):\n",
        "\n",
        "        # block 1:         3 x 32 x 32 --> 64 x 16 x 16\n",
        "        x = self.conv1a(x)\n",
        "        x = torch.relu(x)\n",
        "        x = self.conv1b(x)\n",
        "        x = torch.relu(x)\n",
        "        x = self.pool1(x)\n",
        "\n",
        "        # block 2:         64 x 16 x 16 --> 128 x 8 x 8\n",
        "        x = self.conv2a(x)\n",
        "        x = torch.relu(x)\n",
        "        x = self.conv2b(x)\n",
        "        x = torch.relu(x)\n",
        "        x = self.pool2(x)\n",
        "\n",
        "        # block 3:         128 x 8 x 8 --> 256 x 4 x 4\n",
        "        x = self.conv3a(x)\n",
        "        x = torch.relu(x)\n",
        "        x = self.conv3b(x)\n",
        "        x = torch.relu(x)\n",
        "        x = self.pool3(x)\n",
        "\n",
        "        #block 4:          256 x 4 x 4 --> 512 x 2 x 2\n",
        "        x = self.conv4a(x)\n",
        "        x = torch.relu(x)\n",
        "        x = self.pool4(x)\n",
        "\n",
        "        # linear layers:   512 x 2 x 2 --> 2048 --> 4096 --> 4096 --> 10\n",
        "        x = x.view(-1, 8192)\n",
        "        x = self.linear1(x)\n",
        "        x = torch.relu(x)\n",
        "        x = self.linear2(x)\n",
        "        x = torch.relu(x)\n",
        "        x = self.linear3(x) \n",
        "        \n",
        "        return x"
      ],
      "execution_count": 53,
      "outputs": []
    },
    {
      "cell_type": "code",
      "metadata": {
        "colab": {
          "base_uri": "https://localhost:8080/"
        },
        "id": "l_pBLdBOEPJ_",
        "outputId": "e092715a-b230-4d21-a64c-e36ae60078b3"
      },
      "source": [
        "mean= train_data.mean()\n",
        "\n",
        "print(mean)\n",
        "std= train_data.std()\n",
        "\n",
        "print(std)"
      ],
      "execution_count": 54,
      "outputs": [
        {
          "output_type": "stream",
          "name": "stdout",
          "text": [
            "tensor(0.4325)\n",
            "tensor(0.2568)\n"
          ]
        }
      ]
    },
    {
      "cell_type": "code",
      "metadata": {
        "colab": {
          "base_uri": "https://localhost:8080/"
        },
        "id": "ynLviVkEERkT",
        "outputId": "2cf9adeb-eceb-4d36-e2a7-ffdc6d1b7b54"
      },
      "source": [
        "net=VGG_convnet()\n",
        "\n",
        "print(net)\n",
        "utils.display_num_param(net)"
      ],
      "execution_count": 55,
      "outputs": [
        {
          "output_type": "stream",
          "name": "stdout",
          "text": [
            "VGG_convnet(\n",
            "  (conv1a): Conv2d(3, 64, kernel_size=(32, 32), stride=(1, 1), padding=(16, 16))\n",
            "  (conv1b): Conv2d(64, 64, kernel_size=(32, 32), stride=(1, 1), padding=(16, 16))\n",
            "  (pool1): MaxPool2d(kernel_size=4, stride=4, padding=0, dilation=1, ceil_mode=False)\n",
            "  (conv2a): Conv2d(64, 128, kernel_size=(8, 8), stride=(1, 1), padding=(4, 4))\n",
            "  (conv2b): Conv2d(128, 128, kernel_size=(8, 8), stride=(1, 1), padding=(4, 4))\n",
            "  (pool2): MaxPool2d(kernel_size=2, stride=2, padding=0, dilation=1, ceil_mode=False)\n",
            "  (conv3a): Conv2d(128, 256, kernel_size=(3, 3), stride=(1, 1), padding=(1, 1))\n",
            "  (conv3b): Conv2d(256, 256, kernel_size=(3, 3), stride=(1, 1), padding=(1, 1))\n",
            "  (pool3): MaxPool2d(kernel_size=2, stride=2, padding=0, dilation=1, ceil_mode=False)\n",
            "  (conv4a): Conv2d(256, 512, kernel_size=(3, 3), stride=(1, 1), padding=(1, 1))\n",
            "  (pool4): MaxPool2d(kernel_size=2, stride=2, padding=0, dilation=1, ceil_mode=False)\n",
            "  (linear1): Linear(in_features=8192, out_features=16384, bias=True)\n",
            "  (linear2): Linear(in_features=16384, out_features=16384, bias=True)\n",
            "  (linear3): Linear(in_features=16384, out_features=12, bias=True)\n",
            ")\n",
            "There are 410912140 (410.91 million) parameters in this neural network\n"
          ]
        }
      ]
    },
    {
      "cell_type": "code",
      "metadata": {
        "id": "NHEwxbEnJDPE"
      },
      "source": [
        "net = net.to(device)\n",
        "\n",
        "mean = mean.to(device)\n",
        "\n",
        "std = std.to(device)"
      ],
      "execution_count": 56,
      "outputs": []
    },
    {
      "cell_type": "code",
      "metadata": {
        "id": "EB4DK8mvETY5"
      },
      "source": [
        "criterion = nn.CrossEntropyLoss()\n",
        "my_lr=0.25 \n",
        "bs= 10"
      ],
      "execution_count": 57,
      "outputs": []
    },
    {
      "cell_type": "code",
      "metadata": {
        "id": "5W4sL3CtEVws"
      },
      "source": [
        "def eval_on_test_set():\n",
        "\n",
        "    running_error=0\n",
        "    num_batches=0\n",
        "\n",
        "    for i in range(0,250,bs):\n",
        "\n",
        "        minibatch_data =  test_data[i:i+bs]\n",
        "        minibatch_label= test_label[i:i+bs]\n",
        "\n",
        "        minibatch_data=minibatch_data.to(device)\n",
        "        minibatch_label=minibatch_label.to(device)\n",
        "        \n",
        "        inputs = (minibatch_data - mean)/std\n",
        "\n",
        "        scores=net( inputs ) \n",
        "\n",
        "        error = utils.get_error( scores , minibatch_label)\n",
        "\n",
        "        running_error += error.item()\n",
        "\n",
        "        num_batches+=1\n",
        "\n",
        "    total_error = running_error/num_batches\n",
        "    print( 'error rate on test set =', total_error*100 ,'percent')"
      ],
      "execution_count": 58,
      "outputs": []
    },
    {
      "cell_type": "code",
      "metadata": {
        "id": "I-2AJ7pYEXxD"
      },
      "source": [
        "start=time.time()\n",
        "\n",
        "for epoch in range(1,10):\n",
        "    \n",
        "    # divide the learning rate by 2 at epoch 10, 14 and 18\n",
        "    if epoch==5 or epoch == 7 or epoch==9:\n",
        "        my_lr = my_lr / 2\n",
        "    \n",
        "    # create a new optimizer at the beginning of each epoch: give the current learning rate.   \n",
        "    optimizer=torch.optim.SGD( net.parameters() , lr=my_lr )\n",
        "        \n",
        "    # set the running quatities to zero at the beginning of the epoch\n",
        "    running_loss=0\n",
        "    running_error=0\n",
        "    num_batches=0\n",
        "    \n",
        "    # set the order in which to visit the image from the training set\n",
        "    shuffled_indices=torch.randperm(980)\n",
        " \n",
        "    for count in range(0,980,bs):\n",
        "    \n",
        "        # Set the gradients to zeros\n",
        "        optimizer.zero_grad()\n",
        "        \n",
        "        # create a minibatch       \n",
        "        indices=shuffled_indices[count:count+bs]\n",
        "        minibatch_data =  train_data[indices]\n",
        "        minibatch_label=  train_label[indices]\n",
        "        \n",
        "        # send them to the gpu\n",
        "        minibatch_data=minibatch_data.to(device)\n",
        "        minibatch_label=minibatch_label.to(device)\n",
        "        \n",
        "        # normalize the minibatch (this is the only difference compared to before!)\n",
        "        inputs = (minibatch_data - mean)/std\n",
        "        \n",
        "        # tell Pytorch to start tracking all operations that will be done on \"inputs\"\n",
        "        inputs.requires_grad_()\n",
        "\n",
        "        # forward the minibatch through the net \n",
        "        scores=net( inputs ) \n",
        "\n",
        "        # Compute the average of the losses of the data points in the minibatch\n",
        "        loss =  criterion( scores , minibatch_label) \n",
        "        \n",
        "        # backward pass to compute dL/dU, dL/dV and dL/dW   \n",
        "        loss.backward()\n",
        "\n",
        "        # do one step of stochastic gradient descent: U=U-lr(dL/dU), V=V-lr(dL/dU), ...\n",
        "        optimizer.step()\n",
        "        \n",
        "\n",
        "        # START COMPUTING STATS\n",
        "        \n",
        "        # add the loss of this batch to the running loss\n",
        "        running_loss += loss.detach().item()\n",
        "        \n",
        "        # compute the error made on this batch and add it to the running error       \n",
        "        error = utils.get_error( scores.detach() , minibatch_label)\n",
        "        running_error += error.item()\n",
        "        \n",
        "        num_batches+=1        \n",
        "    \n",
        "    \n",
        "    # compute stats for the full training set\n",
        "    total_loss = running_loss/num_batches\n",
        "    total_error = running_error/num_batches\n",
        "    elapsed = (time.time()-start)/60\n",
        "    \n",
        "\n",
        "    print('epoch=',epoch, '\\t time=', elapsed,'min','\\t lr=', my_lr  ,'\\t loss=', total_loss , '\\t error=', total_error*100 ,'percent')\n",
        "    eval_on_test_set() \n",
        "    print(' ')"
      ],
      "execution_count": null,
      "outputs": []
    },
    {
      "cell_type": "code",
      "metadata": {
        "id": "pQAGbjVRKRE4"
      },
      "source": [
        "# choose a picture at random\n",
        "idx=randint(0, 249)\n",
        "im=test_data[idx]\n",
        "\n",
        "# diplay the picture\n",
        "utils.show(im)\n",
        "print(test_label[idx])\n",
        "# send to device, rescale, and view as a batch of 1 \n",
        "#im = im.to(device)\n",
        "#im= (im-mean) / std\n",
        "#im=im.view(1,3,128,128)\n",
        "\n",
        "# feed it to the net and display the confidence scores\n",
        "#scores =  net(im) \n",
        "##probs= torch.softmax(scores, dim=1)\n",
        "#utils.show_prob_cifar(probs.cpu())"
      ],
      "execution_count": null,
      "outputs": []
    },
    {
      "cell_type": "code",
      "metadata": {
        "id": "d9OVxQDoQVNh"
      },
      "source": [
        ""
      ],
      "execution_count": null,
      "outputs": []
    }
  ]
}